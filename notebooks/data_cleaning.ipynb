{
 "cells": [
  {
   "cell_type": "markdown",
   "metadata": {},
   "source": [
    "## Cleaning the study dataset"
   ]
  },
  {
   "cell_type": "code",
   "execution_count": 12,
   "metadata": {},
   "outputs": [],
   "source": [
    "\"\"\" Import packages \"\"\"\n",
    "import sys\n",
    "import logging\n",
    "import warnings\n",
    "\n",
    "import numpy as np\n",
    "import pandas as pd\n",
    "\n",
    "sys.path.insert(0, '../scripts/')\n",
    "\n",
    "logging.basicConfig(filename='../logs/data_cleaning.log', filemode='a',\n",
    "                    encoding='utf-8', level=logging.DEBUG)\n",
    "\n",
    "warnings.filterwarnings(\"ignore\")"
   ]
  },
  {
   "cell_type": "code",
   "execution_count": 13,
   "metadata": {},
   "outputs": [],
   "source": [
    "from explorer import DataTransformer\n",
    "from dataframe_info_extractor import DataFrameInfo\n",
    "from utils_cleaner import DataFrameCleaner\n",
    "\n",
    "transformer = DataTransformer()"
   ]
  },
  {
   "cell_type": "code",
   "execution_count": 14,
   "metadata": {},
   "outputs": [],
   "source": [
    "REPO = \"./\"\n",
    "filepath = \"../data/cleaned/final/project_data.csv\"\n",
    "rev=\"updv0\""
   ]
  },
  {
   "cell_type": "markdown",
   "metadata": {},
   "source": [
    "### Importing"
   ]
  },
  {
   "cell_type": "code",
   "execution_count": 15,
   "metadata": {},
   "outputs": [
    {
     "data": {
      "text/html": [
       "<div>\n",
       "<style scoped>\n",
       "    .dataframe tbody tr th:only-of-type {\n",
       "        vertical-align: middle;\n",
       "    }\n",
       "\n",
       "    .dataframe tbody tr th {\n",
       "        vertical-align: top;\n",
       "    }\n",
       "\n",
       "    .dataframe thead th {\n",
       "        text-align: right;\n",
       "    }\n",
       "</style>\n",
       "<table border=\"1\" class=\"dataframe\">\n",
       "  <thead>\n",
       "    <tr style=\"text-align: right;\">\n",
       "      <th></th>\n",
       "      <th>Country</th>\n",
       "      <th>ISO3</th>\n",
       "      <th>Date</th>\n",
       "      <th>Malaria_Incidence</th>\n",
       "      <th>Malaria_Deaths_U5</th>\n",
       "      <th>Malaria_Deaths</th>\n",
       "      <th>ITN_Access</th>\n",
       "      <th>ISO3_code</th>\n",
       "      <th>PopDensity</th>\n",
       "      <th>MedianAgePop</th>\n",
       "      <th>...</th>\n",
       "      <th>Foreign direct investment, net inflows (% of GDP)</th>\n",
       "      <th>Mortality rate, under-5 (per 1,000 live births)</th>\n",
       "      <th>Population growth (annual %)</th>\n",
       "      <th>Population in urban agglomerations of more than 1 million (% of total population)</th>\n",
       "      <th>Urban population (% of total population)</th>\n",
       "      <th>Urban population growth (annual %)</th>\n",
       "      <th>Rural population</th>\n",
       "      <th>Precipitation</th>\n",
       "      <th>Average Mean Surface Air Temperature</th>\n",
       "      <th>Average Minimum Surface Air Temperature</th>\n",
       "    </tr>\n",
       "  </thead>\n",
       "  <tbody>\n",
       "    <tr>\n",
       "      <th>0</th>\n",
       "      <td>Angola</td>\n",
       "      <td>AGO</td>\n",
       "      <td>2000-12-31</td>\n",
       "      <td>325.70360</td>\n",
       "      <td>283.27</td>\n",
       "      <td>74.62</td>\n",
       "      <td>2.82</td>\n",
       "      <td>AGO</td>\n",
       "      <td>13.1500</td>\n",
       "      <td>15.5919</td>\n",
       "      <td>...</td>\n",
       "      <td>9.623866</td>\n",
       "      <td>205.1</td>\n",
       "      <td>3.244121</td>\n",
       "      <td>17.255150</td>\n",
       "      <td>50.087</td>\n",
       "      <td>5.648670</td>\n",
       "      <td>8182768.0</td>\n",
       "      <td>1053.39</td>\n",
       "      <td>21.72</td>\n",
       "      <td>14.94</td>\n",
       "    </tr>\n",
       "    <tr>\n",
       "      <th>1</th>\n",
       "      <td>Angola</td>\n",
       "      <td>AGO</td>\n",
       "      <td>2001-12-31</td>\n",
       "      <td>326.65070</td>\n",
       "      <td>304.97</td>\n",
       "      <td>80.30</td>\n",
       "      <td>3.67</td>\n",
       "      <td>AGO</td>\n",
       "      <td>13.5891</td>\n",
       "      <td>15.6426</td>\n",
       "      <td>...</td>\n",
       "      <td>24.009075</td>\n",
       "      <td>198.9</td>\n",
       "      <td>3.285217</td>\n",
       "      <td>17.778222</td>\n",
       "      <td>51.274</td>\n",
       "      <td>5.627442</td>\n",
       "      <td>8254958.0</td>\n",
       "      <td>1043.69</td>\n",
       "      <td>21.90</td>\n",
       "      <td>15.10</td>\n",
       "    </tr>\n",
       "    <tr>\n",
       "      <th>2</th>\n",
       "      <td>Angola</td>\n",
       "      <td>AGO</td>\n",
       "      <td>2002-12-31</td>\n",
       "      <td>309.12094</td>\n",
       "      <td>317.88</td>\n",
       "      <td>83.93</td>\n",
       "      <td>4.72</td>\n",
       "      <td>AGO</td>\n",
       "      <td>14.0500</td>\n",
       "      <td>15.6964</td>\n",
       "      <td>...</td>\n",
       "      <td>11.406192</td>\n",
       "      <td>191.9</td>\n",
       "      <td>3.335132</td>\n",
       "      <td>18.309589</td>\n",
       "      <td>52.461</td>\n",
       "      <td>5.623762</td>\n",
       "      <td>8326997.0</td>\n",
       "      <td>1076.96</td>\n",
       "      <td>21.98</td>\n",
       "      <td>15.19</td>\n",
       "    </tr>\n",
       "    <tr>\n",
       "      <th>3</th>\n",
       "      <td>Angola</td>\n",
       "      <td>AGO</td>\n",
       "      <td>2003-12-31</td>\n",
       "      <td>313.73100</td>\n",
       "      <td>336.87</td>\n",
       "      <td>89.76</td>\n",
       "      <td>5.30</td>\n",
       "      <td>AGO</td>\n",
       "      <td>14.5379</td>\n",
       "      <td>15.7530</td>\n",
       "      <td>...</td>\n",
       "      <td>20.081014</td>\n",
       "      <td>184.2</td>\n",
       "      <td>3.413321</td>\n",
       "      <td>18.842102</td>\n",
       "      <td>53.645</td>\n",
       "      <td>5.645138</td>\n",
       "      <td>8401539.0</td>\n",
       "      <td>1022.52</td>\n",
       "      <td>22.08</td>\n",
       "      <td>15.25</td>\n",
       "    </tr>\n",
       "    <tr>\n",
       "      <th>4</th>\n",
       "      <td>Angola</td>\n",
       "      <td>AGO</td>\n",
       "      <td>2004-12-31</td>\n",
       "      <td>313.73257</td>\n",
       "      <td>369.50</td>\n",
       "      <td>98.39</td>\n",
       "      <td>4.49</td>\n",
       "      <td>AGO</td>\n",
       "      <td>15.0566</td>\n",
       "      <td>15.8070</td>\n",
       "      <td>...</td>\n",
       "      <td>9.329239</td>\n",
       "      <td>175.5</td>\n",
       "      <td>3.506389</td>\n",
       "      <td>19.373746</td>\n",
       "      <td>54.827</td>\n",
       "      <td>5.685845</td>\n",
       "      <td>8479480.0</td>\n",
       "      <td>1059.90</td>\n",
       "      <td>21.81</td>\n",
       "      <td>15.02</td>\n",
       "    </tr>\n",
       "  </tbody>\n",
       "</table>\n",
       "<p>5 rows × 33 columns</p>\n",
       "</div>"
      ],
      "text/plain": [
       "  Country ISO3        Date  Malaria_Incidence  Malaria_Deaths_U5  \\\n",
       "0  Angola  AGO  2000-12-31          325.70360             283.27   \n",
       "1  Angola  AGO  2001-12-31          326.65070             304.97   \n",
       "2  Angola  AGO  2002-12-31          309.12094             317.88   \n",
       "3  Angola  AGO  2003-12-31          313.73100             336.87   \n",
       "4  Angola  AGO  2004-12-31          313.73257             369.50   \n",
       "\n",
       "   Malaria_Deaths  ITN_Access ISO3_code  PopDensity  MedianAgePop  ...  \\\n",
       "0           74.62        2.82       AGO     13.1500       15.5919  ...   \n",
       "1           80.30        3.67       AGO     13.5891       15.6426  ...   \n",
       "2           83.93        4.72       AGO     14.0500       15.6964  ...   \n",
       "3           89.76        5.30       AGO     14.5379       15.7530  ...   \n",
       "4           98.39        4.49       AGO     15.0566       15.8070  ...   \n",
       "\n",
       "   Foreign direct investment, net inflows (% of GDP)  \\\n",
       "0                                           9.623866   \n",
       "1                                          24.009075   \n",
       "2                                          11.406192   \n",
       "3                                          20.081014   \n",
       "4                                           9.329239   \n",
       "\n",
       "   Mortality rate, under-5 (per 1,000 live births)  \\\n",
       "0                                            205.1   \n",
       "1                                            198.9   \n",
       "2                                            191.9   \n",
       "3                                            184.2   \n",
       "4                                            175.5   \n",
       "\n",
       "   Population growth (annual %)  \\\n",
       "0                      3.244121   \n",
       "1                      3.285217   \n",
       "2                      3.335132   \n",
       "3                      3.413321   \n",
       "4                      3.506389   \n",
       "\n",
       "   Population in urban agglomerations of more than 1 million (% of total population)  \\\n",
       "0                                          17.255150                                   \n",
       "1                                          17.778222                                   \n",
       "2                                          18.309589                                   \n",
       "3                                          18.842102                                   \n",
       "4                                          19.373746                                   \n",
       "\n",
       "   Urban population (% of total population)  \\\n",
       "0                                    50.087   \n",
       "1                                    51.274   \n",
       "2                                    52.461   \n",
       "3                                    53.645   \n",
       "4                                    54.827   \n",
       "\n",
       "   Urban population growth (annual %)  Rural population  Precipitation  \\\n",
       "0                            5.648670         8182768.0        1053.39   \n",
       "1                            5.627442         8254958.0        1043.69   \n",
       "2                            5.623762         8326997.0        1076.96   \n",
       "3                            5.645138         8401539.0        1022.52   \n",
       "4                            5.685845         8479480.0        1059.90   \n",
       "\n",
       "   Average Mean Surface Air Temperature  \\\n",
       "0                                 21.72   \n",
       "1                                 21.90   \n",
       "2                                 21.98   \n",
       "3                                 22.08   \n",
       "4                                 21.81   \n",
       "\n",
       "   Average Minimum Surface Air Temperature  \n",
       "0                                    14.94  \n",
       "1                                    15.10  \n",
       "2                                    15.19  \n",
       "3                                    15.25  \n",
       "4                                    15.02  \n",
       "\n",
       "[5 rows x 33 columns]"
      ]
     },
     "execution_count": 15,
     "metadata": {},
     "output_type": "execute_result"
    }
   ],
   "source": [
    "data = transformer.load_data(ext=\"csv\", filepath=filepath, repo=REPO, rev=rev)\n",
    "data.head()"
   ]
  },
  {
   "cell_type": "code",
   "execution_count": 16,
   "metadata": {},
   "outputs": [
    {
     "data": {
      "text/plain": [
       "Index(['Country', 'ISO3', 'Date', 'Malaria_Incidence', 'Malaria_Deaths_U5',\n",
       "       'Malaria_Deaths', 'ITN_Access', 'ISO3_code', 'PopDensity',\n",
       "       'MedianAgePop', 'PopGrowthRate', 'TFR', 'IMR', 'Q5', 'CNMR',\n",
       "       'Population ages 0-14 (% of total population)',\n",
       "       'Population ages 15-64 (% of total population)',\n",
       "       'Domestic general government health expenditure (% of general government expenditure)',\n",
       "       'External health expenditure (% of current health expenditure)',\n",
       "       'People using at least basic sanitation services, rural (% of rural population)',\n",
       "       'People using safely managed sanitation services, rural (% of rural population)',\n",
       "       'Population living in slums (% of urban population)',\n",
       "       'Average precipitation in depth (mm per year)',\n",
       "       'Foreign direct investment, net inflows (% of GDP)',\n",
       "       'Mortality rate, under-5 (per 1,000 live births)',\n",
       "       'Population growth (annual %)',\n",
       "       'Population in urban agglomerations of more than 1 million (% of total population)',\n",
       "       'Urban population (% of total population)',\n",
       "       'Urban population growth (annual %)', 'Rural population',\n",
       "       'Precipitation', 'Average Mean Surface Air Temperature',\n",
       "       'Average Minimum Surface Air Temperature'],\n",
       "      dtype='object')"
      ]
     },
     "execution_count": 16,
     "metadata": {},
     "output_type": "execute_result"
    }
   ],
   "source": [
    "data.columns"
   ]
  },
  {
   "cell_type": "code",
   "execution_count": 17,
   "metadata": {},
   "outputs": [
    {
     "data": {
      "text/plain": [
       "(1000, 33)"
      ]
     },
     "execution_count": 17,
     "metadata": {},
     "output_type": "execute_result"
    }
   ],
   "source": [
    "data.shape"
   ]
  },
  {
   "cell_type": "code",
   "execution_count": 23,
   "metadata": {},
   "outputs": [],
   "source": [
    "datainfo = DataFrameInfo(data)\n",
    "datacleaner = DataFrameCleaner(data)"
   ]
  },
  {
   "cell_type": "markdown",
   "metadata": {},
   "source": [
    "### Inspecting the dataset"
   ]
  },
  {
   "cell_type": "code",
   "execution_count": 24,
   "metadata": {},
   "outputs": [
    {
     "name": "stdout",
     "output_type": "stream",
     "text": [
      " There are 920 rows and 33 columns\n"
     ]
    }
   ],
   "source": [
    "datainfo.get_dimension()"
   ]
  },
  {
   "cell_type": "code",
   "execution_count": 25,
   "metadata": {},
   "outputs": [
    {
     "name": "stdout",
     "output_type": "stream",
     "text": [
      "The dataset contains 9.28 % missing values.\n"
     ]
    }
   ],
   "source": [
    "datainfo.get_percent_missing()"
   ]
  },
  {
   "cell_type": "markdown",
   "metadata": {},
   "source": [
    "### Inspect and cleaning country by country"
   ]
  },
  {
   "cell_type": "code",
   "execution_count": 9,
   "metadata": {},
   "outputs": [
    {
     "name": "stdout",
     "output_type": "stream",
     "text": [
      "Your selected dataframe has 33 columns.\n",
      "There are 2 columns that have missing values greater than 20%."
     ]
    },
    {
     "name": "stdout",
     "output_type": "stream",
     "text": [
      "\n",
      "Your selected dataframe has 33 columns.\n",
      "There are 2 columns that have missing values greater than 20%.\n",
      "Your selected dataframe has 33 columns.\n",
      "There are 1 columns that have missing values greater than 20%.\n",
      "Your selected dataframe has 33 columns.\n",
      "There are 3 columns that have missing values greater than 20%.\n",
      "Your selected dataframe has 33 columns.\n",
      "There are 2 columns that have missing values greater than 20%.\n",
      "Your selected dataframe has 33 columns.\n",
      "There are 2 columns that have missing values greater than 20%.\n",
      "Your selected dataframe has 33 columns.\n",
      "There are 1 columns that have missing values greater than 20%.\n",
      "Your selected dataframe has 33 columns.\n",
      "There are 3 columns that have missing values greater than 20%.\n",
      "Your selected dataframe has 33 columns.\n",
      "There are 2 columns that have missing values greater than 20%.\n",
      "Your selected dataframe has 33 columns.\n",
      "There are 1 columns that have missing values greater than 20%.\n",
      "Your selected dataframe has 33 columns.\n",
      "There are 1 columns that have missing values greater than 20%.\n",
      "Your selected dataframe has 33 columns.\n",
      "There are 2 columns that have missing values greater than 20%.\n",
      "Your selected dataframe has 33 columns.\n",
      "There are 4 columns that have missing values greater than 20%.\n",
      "Your selected dataframe has 33 columns.\n",
      "There are 5 columns that have missing values greater than 20%.\n",
      "Your selected dataframe has 33 columns.\n",
      "There are 1 columns that have missing values greater than 20%.\n",
      "Your selected dataframe has 33 columns.\n",
      "There are 3 columns that have missing values greater than 20%.\n",
      "Your selected dataframe has 33 columns.\n",
      "There are 2 columns that have missing values greater than 20%.\n",
      "Your selected dataframe has 33 columns.\n",
      "There are 1 columns that have missing values greater than 20%.\n",
      "Your selected dataframe has 33 columns.\n",
      "There are 2 columns that have missing values greater than 20%.\n",
      "Your selected dataframe has 33 columns.\n",
      "There are 3 columns that have missing values greater than 20%.\n",
      "Your selected dataframe has 33 columns.\n",
      "There are 1 columns that have missing values greater than 20%.\n",
      "Your selected dataframe has 33 columns.\n",
      "There are 2 columns that have missing values greater than 20%.\n",
      "Your selected dataframe has 33 columns.\n",
      "There are 1 columns that have missing values greater than 20%.\n",
      "Your selected dataframe has 33 columns.\n",
      "There are 1 columns that have missing values greater than 20%.\n",
      "Your selected dataframe has 33 columns.\n",
      "There are 1 columns that have missing values greater than 20%.\n",
      "Your selected dataframe has 33 columns.\n",
      "There are 2 columns that have missing values greater than 20%.\n",
      "Your selected dataframe has 33 columns.\n",
      "There are 1 columns that have missing values greater than 20%.\n",
      "Your selected dataframe has 33 columns.\n",
      "There are 1 columns that have missing values greater than 20%.\n",
      "Your selected dataframe has 33 columns.\n",
      "There are 1 columns that have missing values greater than 20%.\n",
      "Your selected dataframe has 33 columns.\n",
      "There are 1 columns that have missing values greater than 20%.\n",
      "Your selected dataframe has 33 columns.\n",
      "There are 1 columns that have missing values greater than 20%.\n",
      "Your selected dataframe has 33 columns.\n",
      "There are 1 columns that have missing values greater than 20%.\n",
      "Your selected dataframe has 33 columns.\n",
      "There are 4 columns that have missing values greater than 20%.\n",
      "Your selected dataframe has 33 columns.\n",
      "There are 8 columns that have missing values greater than 20%.\n",
      "Your selected dataframe has 33 columns.\n",
      "There are 4 columns that have missing values greater than 20%.\n",
      "Your selected dataframe has 33 columns.\n",
      "There are 1 columns that have missing values greater than 20%.\n",
      "Your selected dataframe has 33 columns.\n",
      "There are 1 columns that have missing values greater than 20%.\n",
      "Your selected dataframe has 33 columns.\n",
      "There are 1 columns that have missing values greater than 20%.\n",
      "Your selected dataframe has 33 columns.\n",
      "There are 1 columns that have missing values greater than 20%.\n",
      "Your selected dataframe has 33 columns.\n",
      "There are 3 columns that have missing values greater than 20%.\n",
      "Your selected dataframe has 33 columns.\n",
      "There are 0 columns that have missing values greater than 20%.\n"
     ]
    }
   ],
   "source": [
    "datacleaner.remove_more_20p_missing_values(\"ISO3\")"
   ]
  },
  {
   "cell_type": "code",
   "execution_count": 10,
   "metadata": {},
   "outputs": [
    {
     "name": "stdout",
     "output_type": "stream",
     "text": [
      " There are 1000 rows and 25 columns\n"
     ]
    }
   ],
   "source": [
    "datainfo.get_dimension()"
   ]
  },
  {
   "cell_type": "code",
   "execution_count": 11,
   "metadata": {},
   "outputs": [
    {
     "name": "stdout",
     "output_type": "stream",
     "text": [
      "The dataset contains 9.28 % missing values.\n"
     ]
    }
   ],
   "source": [
    "datainfo.get_percent_missing()"
   ]
  },
  {
   "cell_type": "code",
   "execution_count": 26,
   "metadata": {},
   "outputs": [
    {
     "name": "stdout",
     "output_type": "stream",
     "text": [
      "Your selected dataframe has 33 columns.\n",
      "There are 32 columns that have missing values greater than 0%.\n"
     ]
    },
    {
     "data": {
      "text/html": [
       "<div>\n",
       "<style scoped>\n",
       "    .dataframe tbody tr th:only-of-type {\n",
       "        vertical-align: middle;\n",
       "    }\n",
       "\n",
       "    .dataframe tbody tr th {\n",
       "        vertical-align: top;\n",
       "    }\n",
       "\n",
       "    .dataframe thead th {\n",
       "        text-align: right;\n",
       "    }\n",
       "</style>\n",
       "<table border=\"1\" class=\"dataframe\">\n",
       "  <thead>\n",
       "    <tr style=\"text-align: right;\">\n",
       "      <th></th>\n",
       "      <th>Missing Values</th>\n",
       "      <th>% of Total Values</th>\n",
       "      <th>Dtype</th>\n",
       "    </tr>\n",
       "  </thead>\n",
       "  <tbody>\n",
       "    <tr>\n",
       "      <th>Population living in slums (% of urban population)</th>\n",
       "      <td>539</td>\n",
       "      <td>58.6</td>\n",
       "      <td>float64</td>\n",
       "    </tr>\n",
       "    <tr>\n",
       "      <th>People using safely managed sanitation services, rural (% of rural population)</th>\n",
       "      <td>330</td>\n",
       "      <td>35.9</td>\n",
       "      <td>float64</td>\n",
       "    </tr>\n",
       "    <tr>\n",
       "      <th>Population in urban agglomerations of more than 1 million (% of total population)</th>\n",
       "      <td>282</td>\n",
       "      <td>30.7</td>\n",
       "      <td>float64</td>\n",
       "    </tr>\n",
       "    <tr>\n",
       "      <th>External health expenditure (% of current health expenditure)</th>\n",
       "      <td>131</td>\n",
       "      <td>14.2</td>\n",
       "      <td>float64</td>\n",
       "    </tr>\n",
       "    <tr>\n",
       "      <th>Domestic general government health expenditure (% of general government expenditure)</th>\n",
       "      <td>128</td>\n",
       "      <td>13.9</td>\n",
       "      <td>float64</td>\n",
       "    </tr>\n",
       "    <tr>\n",
       "      <th>Malaria_Deaths</th>\n",
       "      <td>120</td>\n",
       "      <td>13.0</td>\n",
       "      <td>float64</td>\n",
       "    </tr>\n",
       "    <tr>\n",
       "      <th>Malaria_Deaths_U5</th>\n",
       "      <td>120</td>\n",
       "      <td>13.0</td>\n",
       "      <td>float64</td>\n",
       "    </tr>\n",
       "    <tr>\n",
       "      <th>Average precipitation in depth (mm per year)</th>\n",
       "      <td>104</td>\n",
       "      <td>11.3</td>\n",
       "      <td>float64</td>\n",
       "    </tr>\n",
       "    <tr>\n",
       "      <th>Foreign direct investment, net inflows (% of GDP)</th>\n",
       "      <td>81</td>\n",
       "      <td>8.8</td>\n",
       "      <td>float64</td>\n",
       "    </tr>\n",
       "    <tr>\n",
       "      <th>Malaria_Incidence</th>\n",
       "      <td>80</td>\n",
       "      <td>8.7</td>\n",
       "      <td>float64</td>\n",
       "    </tr>\n",
       "    <tr>\n",
       "      <th>People using at least basic sanitation services, rural (% of rural population)</th>\n",
       "      <td>63</td>\n",
       "      <td>6.8</td>\n",
       "      <td>float64</td>\n",
       "    </tr>\n",
       "    <tr>\n",
       "      <th>Average Mean Surface Air Temperature</th>\n",
       "      <td>40</td>\n",
       "      <td>4.3</td>\n",
       "      <td>float64</td>\n",
       "    </tr>\n",
       "    <tr>\n",
       "      <th>Precipitation</th>\n",
       "      <td>40</td>\n",
       "      <td>4.3</td>\n",
       "      <td>float64</td>\n",
       "    </tr>\n",
       "    <tr>\n",
       "      <th>Rural population</th>\n",
       "      <td>40</td>\n",
       "      <td>4.3</td>\n",
       "      <td>float64</td>\n",
       "    </tr>\n",
       "    <tr>\n",
       "      <th>Urban population growth (annual %)</th>\n",
       "      <td>40</td>\n",
       "      <td>4.3</td>\n",
       "      <td>float64</td>\n",
       "    </tr>\n",
       "    <tr>\n",
       "      <th>Population growth (annual %)</th>\n",
       "      <td>40</td>\n",
       "      <td>4.3</td>\n",
       "      <td>float64</td>\n",
       "    </tr>\n",
       "    <tr>\n",
       "      <th>Mortality rate, under-5 (per 1,000 live births)</th>\n",
       "      <td>40</td>\n",
       "      <td>4.3</td>\n",
       "      <td>float64</td>\n",
       "    </tr>\n",
       "    <tr>\n",
       "      <th>Urban population (% of total population)</th>\n",
       "      <td>40</td>\n",
       "      <td>4.3</td>\n",
       "      <td>float64</td>\n",
       "    </tr>\n",
       "    <tr>\n",
       "      <th>Country</th>\n",
       "      <td>40</td>\n",
       "      <td>4.3</td>\n",
       "      <td>object</td>\n",
       "    </tr>\n",
       "    <tr>\n",
       "      <th>ISO3</th>\n",
       "      <td>40</td>\n",
       "      <td>4.3</td>\n",
       "      <td>object</td>\n",
       "    </tr>\n",
       "    <tr>\n",
       "      <th>Population ages 15-64 (% of total population)</th>\n",
       "      <td>40</td>\n",
       "      <td>4.3</td>\n",
       "      <td>float64</td>\n",
       "    </tr>\n",
       "    <tr>\n",
       "      <th>Population ages 0-14 (% of total population)</th>\n",
       "      <td>40</td>\n",
       "      <td>4.3</td>\n",
       "      <td>float64</td>\n",
       "    </tr>\n",
       "    <tr>\n",
       "      <th>CNMR</th>\n",
       "      <td>40</td>\n",
       "      <td>4.3</td>\n",
       "      <td>float64</td>\n",
       "    </tr>\n",
       "    <tr>\n",
       "      <th>Q5</th>\n",
       "      <td>40</td>\n",
       "      <td>4.3</td>\n",
       "      <td>float64</td>\n",
       "    </tr>\n",
       "    <tr>\n",
       "      <th>IMR</th>\n",
       "      <td>40</td>\n",
       "      <td>4.3</td>\n",
       "      <td>float64</td>\n",
       "    </tr>\n",
       "    <tr>\n",
       "      <th>TFR</th>\n",
       "      <td>40</td>\n",
       "      <td>4.3</td>\n",
       "      <td>float64</td>\n",
       "    </tr>\n",
       "    <tr>\n",
       "      <th>PopGrowthRate</th>\n",
       "      <td>40</td>\n",
       "      <td>4.3</td>\n",
       "      <td>float64</td>\n",
       "    </tr>\n",
       "    <tr>\n",
       "      <th>MedianAgePop</th>\n",
       "      <td>40</td>\n",
       "      <td>4.3</td>\n",
       "      <td>float64</td>\n",
       "    </tr>\n",
       "    <tr>\n",
       "      <th>PopDensity</th>\n",
       "      <td>40</td>\n",
       "      <td>4.3</td>\n",
       "      <td>float64</td>\n",
       "    </tr>\n",
       "    <tr>\n",
       "      <th>ISO3_code</th>\n",
       "      <td>40</td>\n",
       "      <td>4.3</td>\n",
       "      <td>object</td>\n",
       "    </tr>\n",
       "    <tr>\n",
       "      <th>ITN_Access</th>\n",
       "      <td>40</td>\n",
       "      <td>4.3</td>\n",
       "      <td>float64</td>\n",
       "    </tr>\n",
       "    <tr>\n",
       "      <th>Average Minimum Surface Air Temperature</th>\n",
       "      <td>40</td>\n",
       "      <td>4.3</td>\n",
       "      <td>float64</td>\n",
       "    </tr>\n",
       "  </tbody>\n",
       "</table>\n",
       "</div>"
      ],
      "text/plain": [
       "                                                    Missing Values  \\\n",
       "Population living in slums (% of urban population)             539   \n",
       "People using safely managed sanitation services...             330   \n",
       "Population in urban agglomerations of more than...             282   \n",
       "External health expenditure (% of current healt...             131   \n",
       "Domestic general government health expenditure ...             128   \n",
       "Malaria_Deaths                                                 120   \n",
       "Malaria_Deaths_U5                                              120   \n",
       "Average precipitation in depth (mm per year)                   104   \n",
       "Foreign direct investment, net inflows (% of GDP)               81   \n",
       "Malaria_Incidence                                               80   \n",
       "People using at least basic sanitation services...              63   \n",
       "Average Mean Surface Air Temperature                            40   \n",
       "Precipitation                                                   40   \n",
       "Rural population                                                40   \n",
       "Urban population growth (annual %)                              40   \n",
       "Population growth (annual %)                                    40   \n",
       "Mortality rate, under-5 (per 1,000 live births)                 40   \n",
       "Urban population (% of total population)                        40   \n",
       "Country                                                         40   \n",
       "ISO3                                                            40   \n",
       "Population ages 15-64 (% of total population)                   40   \n",
       "Population ages 0-14 (% of total population)                    40   \n",
       "CNMR                                                            40   \n",
       "Q5                                                              40   \n",
       "IMR                                                             40   \n",
       "TFR                                                             40   \n",
       "PopGrowthRate                                                   40   \n",
       "MedianAgePop                                                    40   \n",
       "PopDensity                                                      40   \n",
       "ISO3_code                                                       40   \n",
       "ITN_Access                                                      40   \n",
       "Average Minimum Surface Air Temperature                         40   \n",
       "\n",
       "                                                    % of Total Values    Dtype  \n",
       "Population living in slums (% of urban population)               58.6  float64  \n",
       "People using safely managed sanitation services...               35.9  float64  \n",
       "Population in urban agglomerations of more than...               30.7  float64  \n",
       "External health expenditure (% of current healt...               14.2  float64  \n",
       "Domestic general government health expenditure ...               13.9  float64  \n",
       "Malaria_Deaths                                                   13.0  float64  \n",
       "Malaria_Deaths_U5                                                13.0  float64  \n",
       "Average precipitation in depth (mm per year)                     11.3  float64  \n",
       "Foreign direct investment, net inflows (% of GDP)                 8.8  float64  \n",
       "Malaria_Incidence                                                 8.7  float64  \n",
       "People using at least basic sanitation services...                6.8  float64  \n",
       "Average Mean Surface Air Temperature                              4.3  float64  \n",
       "Precipitation                                                     4.3  float64  \n",
       "Rural population                                                  4.3  float64  \n",
       "Urban population growth (annual %)                                4.3  float64  \n",
       "Population growth (annual %)                                      4.3  float64  \n",
       "Mortality rate, under-5 (per 1,000 live births)                   4.3  float64  \n",
       "Urban population (% of total population)                          4.3  float64  \n",
       "Country                                                           4.3   object  \n",
       "ISO3                                                              4.3   object  \n",
       "Population ages 15-64 (% of total population)                     4.3  float64  \n",
       "Population ages 0-14 (% of total population)                      4.3  float64  \n",
       "CNMR                                                              4.3  float64  \n",
       "Q5                                                                4.3  float64  \n",
       "IMR                                                               4.3  float64  \n",
       "TFR                                                               4.3  float64  \n",
       "PopGrowthRate                                                     4.3  float64  \n",
       "MedianAgePop                                                      4.3  float64  \n",
       "PopDensity                                                        4.3  float64  \n",
       "ISO3_code                                                         4.3   object  \n",
       "ITN_Access                                                        4.3  float64  \n",
       "Average Minimum Surface Air Temperature                           4.3  float64  "
      ]
     },
     "execution_count": 26,
     "metadata": {},
     "output_type": "execute_result"
    }
   ],
   "source": [
    "datainfo.missing_values_table()"
   ]
  },
  {
   "cell_type": "code",
   "execution_count": 15,
   "metadata": {},
   "outputs": [],
   "source": [
    "# Replace in object columns and convert to int\n",
    "objects_columns_to_convert = data.select_dtypes(object).columns.to_list()\n",
    "objects_columns_to_convert.remove(\"ISO3\")\n",
    "objects_columns_to_convert.remove(\"Date\")\n",
    "\n",
    "for column in objects_columns_to_convert:\n",
    "    datacleaner.replace_in_string_to_int(column, \" \", \"\")"
   ]
  },
  {
   "cell_type": "code",
   "execution_count": 16,
   "metadata": {},
   "outputs": [],
   "source": [
    "# Fill missing values\n",
    "datacleaner.fill_missing(\"ISO3\")"
   ]
  },
  {
   "cell_type": "code",
   "execution_count": 17,
   "metadata": {},
   "outputs": [],
   "source": [
    "# Convert Date to datetime\n",
    "datacleaner.convert_to_date(\"Date\")"
   ]
  },
  {
   "cell_type": "code",
   "execution_count": 18,
   "metadata": {},
   "outputs": [
    {
     "data": {
      "text/plain": [
       "float64    42\n",
       "int64       3\n",
       "object      2\n",
       "Name: count, dtype: int64"
      ]
     },
     "execution_count": 18,
     "metadata": {},
     "output_type": "execute_result"
    }
   ],
   "source": [
    "datainfo.get_data_types()"
   ]
  },
  {
   "cell_type": "code",
   "execution_count": 19,
   "metadata": {},
   "outputs": [],
   "source": [
    "data = datacleaner.data\n",
    "datainfo = DataFrameInfo(data)"
   ]
  },
  {
   "cell_type": "code",
   "execution_count": 20,
   "metadata": {},
   "outputs": [
    {
     "name": "stdout",
     "output_type": "stream",
     "text": [
      "The dataset contains 0.19 % missing values.\n"
     ]
    }
   ],
   "source": [
    "datainfo.get_percent_missing()"
   ]
  },
  {
   "cell_type": "markdown",
   "metadata": {},
   "source": [
    "\"ITN\" column will be removed because it contains a lot of 0. The series does not make real since."
   ]
  },
  {
   "cell_type": "code",
   "execution_count": 21,
   "metadata": {},
   "outputs": [],
   "source": [
    "datacleaner.drop_columns([\"ITN\"])"
   ]
  },
  {
   "cell_type": "code",
   "execution_count": 22,
   "metadata": {},
   "outputs": [
    {
     "data": {
      "text/plain": [
       "float64           41\n",
       "int64              3\n",
       "datetime64[ns]     1\n",
       "object             1\n",
       "Name: count, dtype: int64"
      ]
     },
     "execution_count": 22,
     "metadata": {},
     "output_type": "execute_result"
    }
   ],
   "source": [
    "datainfo.get_data_types()"
   ]
  },
  {
   "cell_type": "code",
   "execution_count": 23,
   "metadata": {},
   "outputs": [
    {
     "data": {
      "text/plain": [
       "Index(['Cases', 'Deaths_df3', 'Deaths0_4', 'Deaths5_14', 'Deaths15_49',\n",
       "       'Deaths50_69', 'Deaths70p', 'Presumed cases', 'Total cases',\n",
       "       'ITN Access Population (%)', 'Precipitation', 'Min Temperature',\n",
       "       'Surface Temperature Change', 'Access to electricity (% of population)',\n",
       "       'Agricultural land (% of land area)', 'Agricultural land (sq. km)',\n",
       "       'Agriculture, forestry, and fishing, value added (% of GDP)',\n",
       "       'Annual freshwater withdrawals, total (% of internal resources)',\n",
       "       'Annual freshwater withdrawals, total (billion cubic meters)',\n",
       "       'Arable land (% of land area)',\n",
       "       'Average precipitation in depth (mm per year)',\n",
       "       'CO2 emissions (kg per 2015 US$ of GDP)',\n",
       "       'CO2 emissions (kg per 2017 PPP $ of GDP)',\n",
       "       'CO2 emissions (kg per PPP $ of GDP)', 'CO2 emissions (kt)',\n",
       "       'CO2 emissions (metric tons per capita)',\n",
       "       'Cereal yield (kg per hectare)',\n",
       "       'Foreign direct investment, net inflows (% of GDP)',\n",
       "       'Forest area (% of land area)', 'Forest area (sq. km)',\n",
       "       'Methane emissions (kt of CO2 equivalent)',\n",
       "       'Mortality rate, under-5 (per 1,000 live births)',\n",
       "       'Nitrous oxide emissions (thousand metric tons of CO2 equivalent)',\n",
       "       'Population growth (annual %)',\n",
       "       'Population in urban agglomerations of more than 1 million (% of total population)',\n",
       "       'Population, total',\n",
       "       'Renewable energy consumption (% of total final energy consumption)',\n",
       "       'Total greenhouse gas emissions (kt of CO2 equivalent)',\n",
       "       'Urban population', 'Urban population (% of total population)_df9',\n",
       "       'Urban population growth (annual %)_df9'],\n",
       "      dtype='object')"
      ]
     },
     "execution_count": 23,
     "metadata": {},
     "output_type": "execute_result"
    }
   ],
   "source": [
    "data.select_dtypes(float).columns"
   ]
  },
  {
   "cell_type": "code",
   "execution_count": 24,
   "metadata": {},
   "outputs": [
    {
     "data": {
      "text/plain": [
       "Index(['Participated in MVIP', 'Participated in RTS Trials',\n",
       "       'Participated in R21 Trials'],\n",
       "      dtype='object')"
      ]
     },
     "execution_count": 24,
     "metadata": {},
     "output_type": "execute_result"
    }
   ],
   "source": [
    "data.select_dtypes(int).columns"
   ]
  },
  {
   "cell_type": "code",
   "execution_count": 25,
   "metadata": {},
   "outputs": [
    {
     "name": "stdout",
     "output_type": "stream",
     "text": [
      " There are 115 rows and 46 columns\n"
     ]
    }
   ],
   "source": [
    "datainfo.get_dimension()"
   ]
  },
  {
   "cell_type": "code",
   "execution_count": 26,
   "metadata": {},
   "outputs": [
    {
     "data": {
      "text/html": [
       "<div>\n",
       "<style scoped>\n",
       "    .dataframe tbody tr th:only-of-type {\n",
       "        vertical-align: middle;\n",
       "    }\n",
       "\n",
       "    .dataframe tbody tr th {\n",
       "        vertical-align: top;\n",
       "    }\n",
       "\n",
       "    .dataframe thead th {\n",
       "        text-align: right;\n",
       "    }\n",
       "</style>\n",
       "<table border=\"1\" class=\"dataframe\">\n",
       "  <thead>\n",
       "    <tr style=\"text-align: right;\">\n",
       "      <th></th>\n",
       "      <th>Date</th>\n",
       "      <th>Cases</th>\n",
       "      <th>Deaths_df3</th>\n",
       "      <th>Deaths0_4</th>\n",
       "      <th>Deaths5_14</th>\n",
       "      <th>Deaths15_49</th>\n",
       "      <th>Deaths50_69</th>\n",
       "      <th>Deaths70p</th>\n",
       "      <th>Presumed cases</th>\n",
       "      <th>Total cases</th>\n",
       "      <th>...</th>\n",
       "      <th>Population in urban agglomerations of more than 1 million (% of total population)</th>\n",
       "      <th>Population, total</th>\n",
       "      <th>Renewable energy consumption (% of total final energy consumption)</th>\n",
       "      <th>Total greenhouse gas emissions (kt of CO2 equivalent)</th>\n",
       "      <th>Urban population</th>\n",
       "      <th>Urban population (% of total population)_df9</th>\n",
       "      <th>Urban population growth (annual %)_df9</th>\n",
       "      <th>Participated in MVIP</th>\n",
       "      <th>Participated in RTS Trials</th>\n",
       "      <th>Participated in R21 Trials</th>\n",
       "    </tr>\n",
       "  </thead>\n",
       "  <tbody>\n",
       "    <tr>\n",
       "      <th>0</th>\n",
       "      <td>2000-12-31</td>\n",
       "      <td>603.210999</td>\n",
       "      <td>235.128065</td>\n",
       "      <td>874.845987</td>\n",
       "      <td>25.571181</td>\n",
       "      <td>62.627879</td>\n",
       "      <td>450.176799</td>\n",
       "      <td>717.149334</td>\n",
       "      <td>7.058982e+04</td>\n",
       "      <td>2.801231e+05</td>\n",
       "      <td>...</td>\n",
       "      <td>7.749025</td>\n",
       "      <td>11882888.0</td>\n",
       "      <td>85.40</td>\n",
       "      <td>15984.91011</td>\n",
       "      <td>2120383.0</td>\n",
       "      <td>17.844</td>\n",
       "      <td>6.857565</td>\n",
       "      <td>0</td>\n",
       "      <td>0</td>\n",
       "      <td>0</td>\n",
       "    </tr>\n",
       "    <tr>\n",
       "      <th>1</th>\n",
       "      <td>2001-12-31</td>\n",
       "      <td>601.937744</td>\n",
       "      <td>256.009859</td>\n",
       "      <td>918.916428</td>\n",
       "      <td>27.686540</td>\n",
       "      <td>66.619251</td>\n",
       "      <td>469.845175</td>\n",
       "      <td>876.388458</td>\n",
       "      <td>3.525870e+05</td>\n",
       "      <td>3.525870e+05</td>\n",
       "      <td>...</td>\n",
       "      <td>8.086915</td>\n",
       "      <td>12249764.0</td>\n",
       "      <td>85.49</td>\n",
       "      <td>15108.11122</td>\n",
       "      <td>2271106.0</td>\n",
       "      <td>18.540</td>\n",
       "      <td>6.867020</td>\n",
       "      <td>0</td>\n",
       "      <td>0</td>\n",
       "      <td>0</td>\n",
       "    </tr>\n",
       "    <tr>\n",
       "      <th>2</th>\n",
       "      <td>2002-12-31</td>\n",
       "      <td>595.852051</td>\n",
       "      <td>260.730606</td>\n",
       "      <td>958.846796</td>\n",
       "      <td>29.485652</td>\n",
       "      <td>72.230232</td>\n",
       "      <td>505.134949</td>\n",
       "      <td>743.621255</td>\n",
       "      <td>1.188870e+06</td>\n",
       "      <td>1.188870e+06</td>\n",
       "      <td>...</td>\n",
       "      <td>8.437518</td>\n",
       "      <td>12632269.0</td>\n",
       "      <td>85.43</td>\n",
       "      <td>15786.33044</td>\n",
       "      <td>2432722.0</td>\n",
       "      <td>19.258</td>\n",
       "      <td>6.874386</td>\n",
       "      <td>0</td>\n",
       "      <td>0</td>\n",
       "      <td>0</td>\n",
       "    </tr>\n",
       "    <tr>\n",
       "      <th>3</th>\n",
       "      <td>2003-12-31</td>\n",
       "      <td>585.123291</td>\n",
       "      <td>271.081041</td>\n",
       "      <td>965.412955</td>\n",
       "      <td>29.644367</td>\n",
       "      <td>72.615529</td>\n",
       "      <td>508.274478</td>\n",
       "      <td>881.413820</td>\n",
       "      <td>1.443184e+06</td>\n",
       "      <td>1.443184e+06</td>\n",
       "      <td>...</td>\n",
       "      <td>8.800698</td>\n",
       "      <td>13030591.0</td>\n",
       "      <td>85.30</td>\n",
       "      <td>19200.72446</td>\n",
       "      <td>2605597.0</td>\n",
       "      <td>19.996</td>\n",
       "      <td>6.865103</td>\n",
       "      <td>0</td>\n",
       "      <td>0</td>\n",
       "      <td>0</td>\n",
       "    </tr>\n",
       "    <tr>\n",
       "      <th>4</th>\n",
       "      <td>2004-12-31</td>\n",
       "      <td>562.411316</td>\n",
       "      <td>264.250419</td>\n",
       "      <td>925.186169</td>\n",
       "      <td>27.621911</td>\n",
       "      <td>71.165711</td>\n",
       "      <td>498.971133</td>\n",
       "      <td>873.945620</td>\n",
       "      <td>1.528388e+06</td>\n",
       "      <td>1.546644e+06</td>\n",
       "      <td>...</td>\n",
       "      <td>9.177370</td>\n",
       "      <td>13445977.0</td>\n",
       "      <td>85.31</td>\n",
       "      <td>19733.29397</td>\n",
       "      <td>2790981.0</td>\n",
       "      <td>20.757</td>\n",
       "      <td>6.873132</td>\n",
       "      <td>0</td>\n",
       "      <td>0</td>\n",
       "      <td>0</td>\n",
       "    </tr>\n",
       "  </tbody>\n",
       "</table>\n",
       "<p>5 rows × 46 columns</p>\n",
       "</div>"
      ],
      "text/plain": [
       "        Date       Cases  Deaths_df3   Deaths0_4  Deaths5_14  Deaths15_49  \\\n",
       "0 2000-12-31  603.210999  235.128065  874.845987   25.571181    62.627879   \n",
       "1 2001-12-31  601.937744  256.009859  918.916428   27.686540    66.619251   \n",
       "2 2002-12-31  595.852051  260.730606  958.846796   29.485652    72.230232   \n",
       "3 2003-12-31  585.123291  271.081041  965.412955   29.644367    72.615529   \n",
       "4 2004-12-31  562.411316  264.250419  925.186169   27.621911    71.165711   \n",
       "\n",
       "   Deaths50_69   Deaths70p  Presumed cases   Total cases  ...  \\\n",
       "0   450.176799  717.149334    7.058982e+04  2.801231e+05  ...   \n",
       "1   469.845175  876.388458    3.525870e+05  3.525870e+05  ...   \n",
       "2   505.134949  743.621255    1.188870e+06  1.188870e+06  ...   \n",
       "3   508.274478  881.413820    1.443184e+06  1.443184e+06  ...   \n",
       "4   498.971133  873.945620    1.528388e+06  1.546644e+06  ...   \n",
       "\n",
       "   Population in urban agglomerations of more than 1 million (% of total population)  \\\n",
       "0                                           7.749025                                   \n",
       "1                                           8.086915                                   \n",
       "2                                           8.437518                                   \n",
       "3                                           8.800698                                   \n",
       "4                                           9.177370                                   \n",
       "\n",
       "   Population, total  \\\n",
       "0         11882888.0   \n",
       "1         12249764.0   \n",
       "2         12632269.0   \n",
       "3         13030591.0   \n",
       "4         13445977.0   \n",
       "\n",
       "   Renewable energy consumption (% of total final energy consumption)  \\\n",
       "0                                              85.40                    \n",
       "1                                              85.49                    \n",
       "2                                              85.43                    \n",
       "3                                              85.30                    \n",
       "4                                              85.31                    \n",
       "\n",
       "  Total greenhouse gas emissions (kt of CO2 equivalent)  Urban population  \\\n",
       "0                                        15984.91011            2120383.0   \n",
       "1                                        15108.11122            2271106.0   \n",
       "2                                        15786.33044            2432722.0   \n",
       "3                                        19200.72446            2605597.0   \n",
       "4                                        19733.29397            2790981.0   \n",
       "\n",
       "   Urban population (% of total population)_df9  \\\n",
       "0                                        17.844   \n",
       "1                                        18.540   \n",
       "2                                        19.258   \n",
       "3                                        19.996   \n",
       "4                                        20.757   \n",
       "\n",
       "   Urban population growth (annual %)_df9  Participated in MVIP  \\\n",
       "0                                6.857565                     0   \n",
       "1                                6.867020                     0   \n",
       "2                                6.874386                     0   \n",
       "3                                6.865103                     0   \n",
       "4                                6.873132                     0   \n",
       "\n",
       "   Participated in RTS Trials  Participated in R21 Trials  \n",
       "0                           0                           0  \n",
       "1                           0                           0  \n",
       "2                           0                           0  \n",
       "3                           0                           0  \n",
       "4                           0                           0  \n",
       "\n",
       "[5 rows x 46 columns]"
      ]
     },
     "execution_count": 26,
     "metadata": {},
     "output_type": "execute_result"
    }
   ],
   "source": [
    "data.head()"
   ]
  },
  {
   "cell_type": "code",
   "execution_count": 27,
   "metadata": {},
   "outputs": [
    {
     "data": {
      "text/plain": [
       "Index(['Date', 'Cases', 'Deaths_df3', 'Deaths0_4', 'Deaths5_14', 'Deaths15_49',\n",
       "       'Deaths50_69', 'Deaths70p', 'Presumed cases', 'Total cases',\n",
       "       'ITN Access Population (%)', 'Precipitation', 'Min Temperature', 'ISO3',\n",
       "       'Surface Temperature Change', 'Access to electricity (% of population)',\n",
       "       'Agricultural land (% of land area)', 'Agricultural land (sq. km)',\n",
       "       'Agriculture, forestry, and fishing, value added (% of GDP)',\n",
       "       'Annual freshwater withdrawals, total (% of internal resources)',\n",
       "       'Annual freshwater withdrawals, total (billion cubic meters)',\n",
       "       'Arable land (% of land area)',\n",
       "       'Average precipitation in depth (mm per year)',\n",
       "       'CO2 emissions (kg per 2015 US$ of GDP)',\n",
       "       'CO2 emissions (kg per 2017 PPP $ of GDP)',\n",
       "       'CO2 emissions (kg per PPP $ of GDP)', 'CO2 emissions (kt)',\n",
       "       'CO2 emissions (metric tons per capita)',\n",
       "       'Cereal yield (kg per hectare)',\n",
       "       'Foreign direct investment, net inflows (% of GDP)',\n",
       "       'Forest area (% of land area)', 'Forest area (sq. km)',\n",
       "       'Methane emissions (kt of CO2 equivalent)',\n",
       "       'Mortality rate, under-5 (per 1,000 live births)',\n",
       "       'Nitrous oxide emissions (thousand metric tons of CO2 equivalent)',\n",
       "       'Population growth (annual %)',\n",
       "       'Population in urban agglomerations of more than 1 million (% of total population)',\n",
       "       'Population, total',\n",
       "       'Renewable energy consumption (% of total final energy consumption)',\n",
       "       'Total greenhouse gas emissions (kt of CO2 equivalent)',\n",
       "       'Urban population', 'Urban population (% of total population)_df9',\n",
       "       'Urban population growth (annual %)_df9', 'Participated in MVIP',\n",
       "       'Participated in RTS Trials', 'Participated in R21 Trials'],\n",
       "      dtype='object')"
      ]
     },
     "execution_count": 27,
     "metadata": {},
     "output_type": "execute_result"
    }
   ],
   "source": [
    "data.columns"
   ]
  },
  {
   "cell_type": "markdown",
   "metadata": {},
   "source": [
    "### Inspecting extreme outlier values in country datasets"
   ]
  },
  {
   "cell_type": "code",
   "execution_count": 28,
   "metadata": {},
   "outputs": [],
   "source": [
    "subdata = datacleaner.split_in_subframes(\"ISO3\")"
   ]
  },
  {
   "cell_type": "code",
   "execution_count": 29,
   "metadata": {},
   "outputs": [],
   "source": [
    "subdatacleaner = [DataFrameCleaner(frame) for frame in subdata]"
   ]
  },
  {
   "cell_type": "code",
   "execution_count": 30,
   "metadata": {},
   "outputs": [
    {
     "name": "stdout",
     "output_type": "stream",
     "text": [
      "Number of very extreme outlier values in BFA data: 0\n",
      "Number of very extreme outlier values in GHA data: 0\n",
      "Number of very extreme outlier values in KEN data: 1\n",
      "Number of very extreme outlier values in MWI data: 0\n",
      "Number of very extreme outlier values in NGA data: 0\n"
     ]
    }
   ],
   "source": [
    "print(\"Number of very extreme outlier values in BFA data:\", subdatacleaner[0].manage_outlier(subdata[0].select_dtypes(include=\"number\").columns).nb_outliers.sum())\n",
    "print(\"Number of very extreme outlier values in GHA data:\", subdatacleaner[1].manage_outlier(subdata[1].select_dtypes(include=\"number\").columns).nb_outliers.sum())\n",
    "print(\"Number of very extreme outlier values in KEN data:\", subdatacleaner[2].manage_outlier(subdata[2].select_dtypes(include=\"number\").columns).nb_outliers.sum())\n",
    "print(\"Number of very extreme outlier values in MWI data:\", subdatacleaner[3].manage_outlier(subdata[3].select_dtypes(include=\"number\").columns).nb_outliers.sum())\n",
    "print(\"Number of very extreme outlier values in NGA data:\", subdatacleaner[4].manage_outlier(subdata[4].select_dtypes(include=\"number\").columns).nb_outliers.sum())"
   ]
  },
  {
   "cell_type": "code",
   "execution_count": 31,
   "metadata": {},
   "outputs": [
    {
     "data": {
      "text/plain": [
       "'Outliers in Average precipitation in depth (mm per year)'"
      ]
     },
     "metadata": {},
     "output_type": "display_data"
    },
    {
     "data": {
      "text/html": [
       "<div>\n",
       "<style scoped>\n",
       "    .dataframe tbody tr th:only-of-type {\n",
       "        vertical-align: middle;\n",
       "    }\n",
       "\n",
       "    .dataframe tbody tr th {\n",
       "        vertical-align: top;\n",
       "    }\n",
       "\n",
       "    .dataframe thead th {\n",
       "        text-align: right;\n",
       "    }\n",
       "</style>\n",
       "<table border=\"1\" class=\"dataframe\">\n",
       "  <thead>\n",
       "    <tr style=\"text-align: right;\">\n",
       "      <th></th>\n",
       "      <th>Date</th>\n",
       "      <th>Cases</th>\n",
       "      <th>Deaths_df3</th>\n",
       "      <th>Deaths0_4</th>\n",
       "      <th>Deaths5_14</th>\n",
       "      <th>Deaths15_49</th>\n",
       "      <th>Deaths50_69</th>\n",
       "      <th>Deaths70p</th>\n",
       "      <th>Presumed cases</th>\n",
       "      <th>Total cases</th>\n",
       "      <th>...</th>\n",
       "      <th>Population in urban agglomerations of more than 1 million (% of total population)</th>\n",
       "      <th>Population, total</th>\n",
       "      <th>Renewable energy consumption (% of total final energy consumption)</th>\n",
       "      <th>Total greenhouse gas emissions (kt of CO2 equivalent)</th>\n",
       "      <th>Urban population</th>\n",
       "      <th>Urban population (% of total population)_df9</th>\n",
       "      <th>Urban population growth (annual %)_df9</th>\n",
       "      <th>Participated in MVIP</th>\n",
       "      <th>Participated in RTS Trials</th>\n",
       "      <th>Participated in R21 Trials</th>\n",
       "    </tr>\n",
       "  </thead>\n",
       "  <tbody>\n",
       "    <tr>\n",
       "      <th>0</th>\n",
       "      <td>2000-12-31</td>\n",
       "      <td>216.795532</td>\n",
       "      <td>40.316853</td>\n",
       "      <td>170.093842</td>\n",
       "      <td>9.731429</td>\n",
       "      <td>10.931158</td>\n",
       "      <td>68.345402</td>\n",
       "      <td>87.586865</td>\n",
       "      <td>4216531.0</td>\n",
       "      <td>4216531.0</td>\n",
       "      <td>...</td>\n",
       "      <td>9.390928</td>\n",
       "      <td>30851606.0</td>\n",
       "      <td>78.15</td>\n",
       "      <td>35347.18812</td>\n",
       "      <td>6137001.0</td>\n",
       "      <td>19.892</td>\n",
       "      <td>4.64967</td>\n",
       "      <td>0</td>\n",
       "      <td>0</td>\n",
       "      <td>0</td>\n",
       "    </tr>\n",
       "  </tbody>\n",
       "</table>\n",
       "<p>1 rows × 46 columns</p>\n",
       "</div>"
      ],
      "text/plain": [
       "        Date       Cases  Deaths_df3   Deaths0_4  Deaths5_14  Deaths15_49  \\\n",
       "0 2000-12-31  216.795532   40.316853  170.093842    9.731429    10.931158   \n",
       "\n",
       "   Deaths50_69  Deaths70p  Presumed cases  Total cases  ...  \\\n",
       "0    68.345402  87.586865       4216531.0    4216531.0  ...   \n",
       "\n",
       "   Population in urban agglomerations of more than 1 million (% of total population)  \\\n",
       "0                                           9.390928                                   \n",
       "\n",
       "   Population, total  \\\n",
       "0         30851606.0   \n",
       "\n",
       "   Renewable energy consumption (% of total final energy consumption)  \\\n",
       "0                                              78.15                    \n",
       "\n",
       "  Total greenhouse gas emissions (kt of CO2 equivalent)  Urban population  \\\n",
       "0                                        35347.18812            6137001.0   \n",
       "\n",
       "   Urban population (% of total population)_df9  \\\n",
       "0                                        19.892   \n",
       "\n",
       "   Urban population growth (annual %)_df9  Participated in MVIP  \\\n",
       "0                                 4.64967                     0   \n",
       "\n",
       "   Participated in RTS Trials  Participated in R21 Trials  \n",
       "0                           0                           0  \n",
       "\n",
       "[1 rows x 46 columns]"
      ]
     },
     "metadata": {},
     "output_type": "display_data"
    },
    {
     "data": {
      "text/plain": [
       "['Average precipitation in depth (mm per year)']"
      ]
     },
     "execution_count": 31,
     "metadata": {},
     "output_type": "execute_result"
    }
   ],
   "source": [
    "subdatacleaner[2].manage_outlier(subdata[2].select_dtypes(include=\"number\").columns, cat_values=True)"
   ]
  },
  {
   "cell_type": "code",
   "execution_count": 32,
   "metadata": {},
   "outputs": [
    {
     "data": {
      "text/plain": [
       "[]"
      ]
     },
     "execution_count": 32,
     "metadata": {},
     "output_type": "execute_result"
    }
   ],
   "source": [
    "subdatacleaner[3].manage_outlier(subdata[3].select_dtypes(include=\"number\").columns, cat_values=True)"
   ]
  },
  {
   "cell_type": "code",
   "execution_count": 33,
   "metadata": {},
   "outputs": [
    {
     "data": {
      "text/plain": [
       "[]"
      ]
     },
     "execution_count": 33,
     "metadata": {},
     "output_type": "execute_result"
    }
   ],
   "source": [
    "subdatacleaner[4].manage_outlier(subdata[4].select_dtypes(include=\"number\").columns, cat_values=True)"
   ]
  },
  {
   "cell_type": "markdown",
   "metadata": {},
   "source": [
    "### Export this version of the data"
   ]
  },
  {
   "cell_type": "code",
   "execution_count": 34,
   "metadata": {},
   "outputs": [],
   "source": [
    "data.to_csv(\"../data/cleaned/study_dataset.csv\", index=False)"
   ]
  },
  {
   "cell_type": "code",
   "execution_count": null,
   "metadata": {},
   "outputs": [],
   "source": []
  }
 ],
 "metadata": {
  "kernelspec": {
   "display_name": "venv",
   "language": "python",
   "name": "python3"
  },
  "language_info": {
   "codemirror_mode": {
    "name": "ipython",
    "version": 3
   },
   "file_extension": ".py",
   "mimetype": "text/x-python",
   "name": "python",
   "nbconvert_exporter": "python",
   "pygments_lexer": "ipython3",
   "version": "3.10.12"
  },
  "orig_nbformat": 4
 },
 "nbformat": 4,
 "nbformat_minor": 2
}
