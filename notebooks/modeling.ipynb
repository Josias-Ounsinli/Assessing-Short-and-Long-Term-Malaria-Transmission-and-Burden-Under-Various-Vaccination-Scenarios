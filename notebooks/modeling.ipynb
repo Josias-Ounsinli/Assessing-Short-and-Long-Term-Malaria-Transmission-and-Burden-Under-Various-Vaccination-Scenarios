{
 "cells": [
  {
   "cell_type": "code",
   "execution_count": 1,
   "metadata": {},
   "outputs": [],
   "source": [
    "\"\"\" Import packages \"\"\"\n",
    "import os\n",
    "from datetime import datetime\n",
    "import pickle\n",
    "import sys\n",
    "import logging\n",
    "import warnings\n",
    "\n",
    "import numpy as np\n",
    "import pandas as pd\n",
    "import matplotlib.pyplot as plt\n",
    "import seaborn as sns\n",
    "\n",
    "sys.path.insert(0, '../scripts/')\n",
    "\n",
    "logging.basicConfig(filename='../logs/modeling.log', filemode='a',\n",
    "                    encoding='utf-8', level=logging.DEBUG)\n",
    "\n",
    "warnings.filterwarnings(\"ignore\")"
   ]
  },
  {
   "cell_type": "code",
   "execution_count": 2,
   "metadata": {},
   "outputs": [
    {
     "name": "stderr",
     "output_type": "stream",
     "text": [
      "2023-09-21 15:01:54.456538: I tensorflow/core/platform/cpu_feature_guard.cc:182] This TensorFlow binary is optimized to use available CPU instructions in performance-critical operations.\n",
      "To enable the following instructions: AVX2 FMA, in other operations, rebuild TensorFlow with the appropriate compiler flags.\n",
      "2023-09-21 15:01:55.976801: W tensorflow/compiler/tf2tensorrt/utils/py_utils.cc:38] TF-TRT Warning: Could not find TensorRT\n"
     ]
    }
   ],
   "source": [
    "from modeling import build_train_test_datasets\n",
    "from modeling import build_sequences\n",
    "from modeling import train_lstm"
   ]
  },
  {
   "cell_type": "code",
   "execution_count": 3,
   "metadata": {},
   "outputs": [],
   "source": [
    "from explorer import DataTransformer\n",
    "\n",
    "transformer = DataTransformer()"
   ]
  },
  {
   "cell_type": "code",
   "execution_count": 4,
   "metadata": {},
   "outputs": [],
   "source": [
    "REPO = \"../\"\n",
    "filepath = \"data/cleaned/study_dataset.csv\"\n",
    "rev = \"Cleaneddatav22mf\""
   ]
  },
  {
   "cell_type": "markdown",
   "metadata": {},
   "source": [
    "### Importing the data"
   ]
  },
  {
   "cell_type": "code",
   "execution_count": 5,
   "metadata": {},
   "outputs": [
    {
     "data": {
      "text/html": [
       "<div>\n",
       "<style scoped>\n",
       "    .dataframe tbody tr th:only-of-type {\n",
       "        vertical-align: middle;\n",
       "    }\n",
       "\n",
       "    .dataframe tbody tr th {\n",
       "        vertical-align: top;\n",
       "    }\n",
       "\n",
       "    .dataframe thead th {\n",
       "        text-align: right;\n",
       "    }\n",
       "</style>\n",
       "<table border=\"1\" class=\"dataframe\">\n",
       "  <thead>\n",
       "    <tr style=\"text-align: right;\">\n",
       "      <th></th>\n",
       "      <th>ISO3</th>\n",
       "      <th>Date</th>\n",
       "      <th>Target_1</th>\n",
       "      <th>Target_2</th>\n",
       "      <th>Target_3</th>\n",
       "      <th>Target_4</th>\n",
       "      <th>Target_5</th>\n",
       "      <th>Target_6</th>\n",
       "      <th>Target_7</th>\n",
       "      <th>Feature_1</th>\n",
       "      <th>...</th>\n",
       "      <th>Feature_14</th>\n",
       "      <th>Feature_17</th>\n",
       "      <th>Feature_19</th>\n",
       "      <th>Feature_22</th>\n",
       "      <th>Feature_24</th>\n",
       "      <th>Feature_27</th>\n",
       "      <th>Feature_31</th>\n",
       "      <th>Feature_32</th>\n",
       "      <th>Feature_33</th>\n",
       "      <th>Feature_34</th>\n",
       "    </tr>\n",
       "  </thead>\n",
       "  <tbody>\n",
       "    <tr>\n",
       "      <th>0</th>\n",
       "      <td>BFA</td>\n",
       "      <td>2000-12-31</td>\n",
       "      <td>603.210999</td>\n",
       "      <td>235.128065</td>\n",
       "      <td>874.845987</td>\n",
       "      <td>25.571181</td>\n",
       "      <td>62.627879</td>\n",
       "      <td>450.176799</td>\n",
       "      <td>717.149334</td>\n",
       "      <td>2.55</td>\n",
       "      <td>...</td>\n",
       "      <td>0.098126</td>\n",
       "      <td>856.4</td>\n",
       "      <td>26.376096</td>\n",
       "      <td>178.7</td>\n",
       "      <td>2.983886</td>\n",
       "      <td>85.40</td>\n",
       "      <td>6.857565</td>\n",
       "      <td>0</td>\n",
       "      <td>0</td>\n",
       "      <td>0</td>\n",
       "    </tr>\n",
       "    <tr>\n",
       "      <th>1</th>\n",
       "      <td>BFA</td>\n",
       "      <td>2001-12-31</td>\n",
       "      <td>601.937744</td>\n",
       "      <td>256.009859</td>\n",
       "      <td>918.916428</td>\n",
       "      <td>27.686540</td>\n",
       "      <td>66.619251</td>\n",
       "      <td>469.845175</td>\n",
       "      <td>876.388458</td>\n",
       "      <td>2.97</td>\n",
       "      <td>...</td>\n",
       "      <td>0.087891</td>\n",
       "      <td>967.8</td>\n",
       "      <td>26.193348</td>\n",
       "      <td>174.7</td>\n",
       "      <td>3.040729</td>\n",
       "      <td>85.49</td>\n",
       "      <td>6.867020</td>\n",
       "      <td>0</td>\n",
       "      <td>0</td>\n",
       "      <td>0</td>\n",
       "    </tr>\n",
       "    <tr>\n",
       "      <th>2</th>\n",
       "      <td>BFA</td>\n",
       "      <td>2002-12-31</td>\n",
       "      <td>595.852051</td>\n",
       "      <td>260.730606</td>\n",
       "      <td>958.846796</td>\n",
       "      <td>29.485652</td>\n",
       "      <td>72.230232</td>\n",
       "      <td>505.134949</td>\n",
       "      <td>743.621255</td>\n",
       "      <td>2.90</td>\n",
       "      <td>...</td>\n",
       "      <td>0.083175</td>\n",
       "      <td>942.7</td>\n",
       "      <td>26.010599</td>\n",
       "      <td>170.2</td>\n",
       "      <td>3.074790</td>\n",
       "      <td>85.43</td>\n",
       "      <td>6.874386</td>\n",
       "      <td>0</td>\n",
       "      <td>0</td>\n",
       "      <td>0</td>\n",
       "    </tr>\n",
       "    <tr>\n",
       "      <th>3</th>\n",
       "      <td>BFA</td>\n",
       "      <td>2003-12-31</td>\n",
       "      <td>585.123291</td>\n",
       "      <td>271.081041</td>\n",
       "      <td>965.412955</td>\n",
       "      <td>29.644367</td>\n",
       "      <td>72.615529</td>\n",
       "      <td>508.274478</td>\n",
       "      <td>881.413820</td>\n",
       "      <td>2.60</td>\n",
       "      <td>...</td>\n",
       "      <td>0.081205</td>\n",
       "      <td>996.3</td>\n",
       "      <td>25.827851</td>\n",
       "      <td>165.0</td>\n",
       "      <td>3.104518</td>\n",
       "      <td>85.30</td>\n",
       "      <td>6.865103</td>\n",
       "      <td>0</td>\n",
       "      <td>0</td>\n",
       "      <td>0</td>\n",
       "    </tr>\n",
       "    <tr>\n",
       "      <th>4</th>\n",
       "      <td>BFA</td>\n",
       "      <td>2004-12-31</td>\n",
       "      <td>562.411316</td>\n",
       "      <td>264.250419</td>\n",
       "      <td>925.186169</td>\n",
       "      <td>27.621911</td>\n",
       "      <td>71.165711</td>\n",
       "      <td>498.971133</td>\n",
       "      <td>873.945620</td>\n",
       "      <td>3.00</td>\n",
       "      <td>...</td>\n",
       "      <td>0.077845</td>\n",
       "      <td>940.7</td>\n",
       "      <td>25.645102</td>\n",
       "      <td>159.1</td>\n",
       "      <td>3.138021</td>\n",
       "      <td>85.31</td>\n",
       "      <td>6.873132</td>\n",
       "      <td>0</td>\n",
       "      <td>0</td>\n",
       "      <td>0</td>\n",
       "    </tr>\n",
       "  </tbody>\n",
       "</table>\n",
       "<p>5 rows × 29 columns</p>\n",
       "</div>"
      ],
      "text/plain": [
       "  ISO3       Date    Target_1    Target_2    Target_3   Target_4   Target_5  \\\n",
       "0  BFA 2000-12-31  603.210999  235.128065  874.845987  25.571181  62.627879   \n",
       "1  BFA 2001-12-31  601.937744  256.009859  918.916428  27.686540  66.619251   \n",
       "2  BFA 2002-12-31  595.852051  260.730606  958.846796  29.485652  72.230232   \n",
       "3  BFA 2003-12-31  585.123291  271.081041  965.412955  29.644367  72.615529   \n",
       "4  BFA 2004-12-31  562.411316  264.250419  925.186169  27.621911  71.165711   \n",
       "\n",
       "     Target_6    Target_7  Feature_1  ...  Feature_14  Feature_17  Feature_19  \\\n",
       "0  450.176799  717.149334       2.55  ...    0.098126       856.4   26.376096   \n",
       "1  469.845175  876.388458       2.97  ...    0.087891       967.8   26.193348   \n",
       "2  505.134949  743.621255       2.90  ...    0.083175       942.7   26.010599   \n",
       "3  508.274478  881.413820       2.60  ...    0.081205       996.3   25.827851   \n",
       "4  498.971133  873.945620       3.00  ...    0.077845       940.7   25.645102   \n",
       "\n",
       "   Feature_22  Feature_24  Feature_27  Feature_31  Feature_32  Feature_33  \\\n",
       "0       178.7    2.983886       85.40    6.857565           0           0   \n",
       "1       174.7    3.040729       85.49    6.867020           0           0   \n",
       "2       170.2    3.074790       85.43    6.874386           0           0   \n",
       "3       165.0    3.104518       85.30    6.865103           0           0   \n",
       "4       159.1    3.138021       85.31    6.873132           0           0   \n",
       "\n",
       "   Feature_34  \n",
       "0           0  \n",
       "1           0  \n",
       "2           0  \n",
       "3           0  \n",
       "4           0  \n",
       "\n",
       "[5 rows x 29 columns]"
      ]
     },
     "execution_count": 5,
     "metadata": {},
     "output_type": "execute_result"
    }
   ],
   "source": [
    "data = transformer.load_data(ext=\"csv\", filepath=filepath, repo=REPO, rev=rev, header=0, parse_dates=[\"Date\"])\n",
    "data.head()"
   ]
  },
  {
   "cell_type": "markdown",
   "metadata": {},
   "source": [
    "### Build Train and Test Dataset: include preprocessing"
   ]
  },
  {
   "cell_type": "code",
   "execution_count": 6,
   "metadata": {},
   "outputs": [],
   "source": [
    "index_cols = [\"ISO3\", \"Date\"]\n",
    "target_columns = [col for col in data.columns if col.startswith(\"Target\")]\n",
    "input_columns = [col for col in data.columns if col.startswith(\"Feature\")] + target_columns\n",
    "feature_columns = [col for col in data.columns if col.startswith(\"Feature\")]"
   ]
  },
  {
   "cell_type": "code",
   "execution_count": 7,
   "metadata": {},
   "outputs": [],
   "source": [
    "d_train_test, scaler_inputs, scaler_targets = build_train_test_datasets(\n",
    "    data,\n",
    "    index_cols=index_cols,\n",
    "    input_cols=input_columns,\n",
    "    target_cols=target_columns,\n",
    "    train_limit=\"2019\",\n",
    "    scaler_str=\"standard\"\n",
    ")"
   ]
  },
  {
   "cell_type": "code",
   "execution_count": 8,
   "metadata": {},
   "outputs": [
    {
     "name": "stdout",
     "output_type": "stream",
     "text": [
      "(95, 27) (95, 7) (20, 27) (20, 7)\n"
     ]
    }
   ],
   "source": [
    "X_train = d_train_test[\"Scaled\"][\"train\"][\"Inputs\"]\n",
    "y_train = d_train_test[\"Scaled\"][\"train\"][\"Targets\"]\n",
    "X_test = d_train_test[\"Scaled\"][\"test\"][\"Inputs\"]\n",
    "y_test = d_train_test[\"Scaled\"][\"test\"][\"Targets\"]\n",
    "\n",
    "print(X_train.shape, y_train.shape, X_test.shape, y_test.shape)"
   ]
  },
  {
   "cell_type": "markdown",
   "metadata": {},
   "source": [
    "### Build sequences"
   ]
  },
  {
   "cell_type": "code",
   "execution_count": 9,
   "metadata": {},
   "outputs": [],
   "source": [
    "seq_length = 2"
   ]
  },
  {
   "cell_type": "code",
   "execution_count": 10,
   "metadata": {},
   "outputs": [],
   "source": [
    "X_train, y_train = build_sequences(X_train, y_train, seq_length=seq_length, index_cols=index_cols)"
   ]
  },
  {
   "cell_type": "code",
   "execution_count": 11,
   "metadata": {},
   "outputs": [],
   "source": [
    "X_test, y_test = build_sequences(X_test, y_test, seq_length=seq_length, index_cols=index_cols)"
   ]
  },
  {
   "cell_type": "code",
   "execution_count": 12,
   "metadata": {},
   "outputs": [
    {
     "name": "stdout",
     "output_type": "stream",
     "text": [
      "(85, 2, 27) (85, 7) (10, 2, 27) (10, 7)\n"
     ]
    }
   ],
   "source": [
    "print(X_train.shape, y_train.shape, X_test.shape, y_test.shape) "
   ]
  },
  {
   "cell_type": "markdown",
   "metadata": {},
   "source": [
    "### Train model"
   ]
  },
  {
   "cell_type": "code",
   "execution_count": 13,
   "metadata": {},
   "outputs": [],
   "source": [
    "# Learning parameters\n",
    "d_learning_params = {}\n",
    "d_learning_params['batch_size'] = 3\n",
    "d_learning_params['epochs'] = 100\n",
    "d_learning_params['activation_fn'] = \"tanh\"\n",
    "d_learning_params['loss_fn'] = \"mse\"\n",
    "d_learning_params['metrics'] = ['mae']\n",
    "d_learning_params['optimizer'] = \"adam\"\n",
    "d_learning_params['scalers'] = [scaler_inputs, scaler_targets]\n",
    "d_learning_params['feat_names'] = input_columns\n",
    "d_learning_params['target_names'] = target_columns\n",
    "d_learning_params['d_train_test'] = d_train_test\n",
    "d_learning_params['seq_train_test_val'] = {\n",
    "    \"train\": {\"features\": X_train, \"targets\": y_train },\n",
    "    \"test\": {\"features\": X_test, \"targets\": y_test}\n",
    "}\n",
    "d_learning_params['layers'] = [64, 32, 24]\n"
   ]
  },
  {
   "cell_type": "code",
   "execution_count": 14,
   "metadata": {},
   "outputs": [
    {
     "name": "stderr",
     "output_type": "stream",
     "text": [
      "2023-09-21 15:02:00.985938: E tensorflow/compiler/xla/stream_executor/cuda/cuda_driver.cc:268] failed call to cuInit: CUDA_ERROR_NO_DEVICE: no CUDA-capable device is detected\n"
     ]
    },
    {
     "name": "stdout",
     "output_type": "stream",
     "text": [
      "Model: \"sequential\"\n",
      "_________________________________________________________________\n",
      " Layer (type)                Output Shape              Param #   \n",
      "=================================================================\n",
      " lstm (LSTM)                 (None, 2, 64)             23552     \n",
      "                                                                 \n",
      " dropout (Dropout)           (None, 2, 64)             0         \n",
      "                                                                 \n",
      " lstm_1 (LSTM)               (None, 2, 32)             12416     \n",
      "                                                                 \n",
      " dropout_1 (Dropout)         (None, 2, 32)             0         \n",
      "                                                                 \n",
      " lstm_2 (LSTM)               (None, 24)                5472      \n",
      "                                                                 \n",
      " dropout_2 (Dropout)         (None, 24)                0         \n",
      "                                                                 \n",
      " dense (Dense)               (None, 7)                 175       \n",
      "                                                                 \n",
      "=================================================================\n",
      "Total params: 41615 (162.56 KB)\n",
      "Trainable params: 41615 (162.56 KB)\n",
      "Non-trainable params: 0 (0.00 Byte)\n",
      "_________________________________________________________________\n",
      "Epoch 1/100\n",
      "29/29 [==============================] - 12s 107ms/step - loss: 0.9580 - mae: 0.8119 - val_loss: 0.6920 - val_mae: 0.6889\n",
      "Epoch 2/100\n",
      "29/29 [==============================] - 1s 30ms/step - loss: 0.6479 - mae: 0.6532 - val_loss: 0.2818 - val_mae: 0.4237\n",
      "Epoch 3/100\n",
      "29/29 [==============================] - 1s 25ms/step - loss: 0.2875 - mae: 0.4078 - val_loss: 0.1044 - val_mae: 0.2300\n",
      "Epoch 4/100\n",
      "29/29 [==============================] - 1s 23ms/step - loss: 0.1645 - mae: 0.3142 - val_loss: 0.0979 - val_mae: 0.2299\n",
      "Epoch 5/100\n",
      "29/29 [==============================] - 1s 20ms/step - loss: 0.1406 - mae: 0.2858 - val_loss: 0.1145 - val_mae: 0.2446\n",
      "Epoch 6/100\n",
      "29/29 [==============================] - 1s 20ms/step - loss: 0.1083 - mae: 0.2476 - val_loss: 0.1275 - val_mae: 0.2518\n",
      "Epoch 7/100\n",
      "29/29 [==============================] - 1s 21ms/step - loss: 0.1014 - mae: 0.2430 - val_loss: 0.1374 - val_mae: 0.2619\n",
      "Epoch 8/100\n",
      "29/29 [==============================] - 0s 16ms/step - loss: 0.0851 - mae: 0.2278 - val_loss: 0.1186 - val_mae: 0.2467\n",
      "Epoch 9/100\n",
      "29/29 [==============================] - 0s 13ms/step - loss: 0.0890 - mae: 0.2323 - val_loss: 0.1228 - val_mae: 0.2458\n",
      "Epoch 10/100\n",
      "29/29 [==============================] - 1s 18ms/step - loss: 0.0726 - mae: 0.2052 - val_loss: 0.1204 - val_mae: 0.2460\n",
      "Epoch 11/100\n",
      "29/29 [==============================] - 1s 19ms/step - loss: 0.0807 - mae: 0.2129 - val_loss: 0.0996 - val_mae: 0.2211\n",
      "Epoch 12/100\n",
      "29/29 [==============================] - 1s 20ms/step - loss: 0.0745 - mae: 0.2010 - val_loss: 0.1017 - val_mae: 0.2266\n",
      "Epoch 13/100\n",
      "29/29 [==============================] - 0s 17ms/step - loss: 0.0657 - mae: 0.1942 - val_loss: 0.1095 - val_mae: 0.2199\n",
      "Epoch 14/100\n",
      "29/29 [==============================] - 1s 18ms/step - loss: 0.0703 - mae: 0.1962 - val_loss: 0.0781 - val_mae: 0.1896\n",
      "Epoch 15/100\n",
      "29/29 [==============================] - 1s 18ms/step - loss: 0.0664 - mae: 0.1921 - val_loss: 0.0715 - val_mae: 0.1793\n",
      "Epoch 16/100\n",
      "29/29 [==============================] - 0s 17ms/step - loss: 0.0630 - mae: 0.1952 - val_loss: 0.0786 - val_mae: 0.1877\n",
      "Epoch 17/100\n",
      "29/29 [==============================] - 1s 20ms/step - loss: 0.0591 - mae: 0.1880 - val_loss: 0.0663 - val_mae: 0.1756\n",
      "Epoch 18/100\n",
      "29/29 [==============================] - 1s 21ms/step - loss: 0.0715 - mae: 0.2006 - val_loss: 0.0567 - val_mae: 0.1616\n",
      "Epoch 19/100\n",
      "29/29 [==============================] - 1s 19ms/step - loss: 0.0735 - mae: 0.2047 - val_loss: 0.0632 - val_mae: 0.1725\n",
      "Epoch 20/100\n",
      "29/29 [==============================] - 1s 20ms/step - loss: 0.0656 - mae: 0.1922 - val_loss: 0.0558 - val_mae: 0.1643\n",
      "Epoch 21/100\n",
      "29/29 [==============================] - 0s 17ms/step - loss: 0.0536 - mae: 0.1747 - val_loss: 0.0584 - val_mae: 0.1588\n",
      "Epoch 22/100\n",
      "29/29 [==============================] - 1s 22ms/step - loss: 0.0535 - mae: 0.1798 - val_loss: 0.0505 - val_mae: 0.1559\n",
      "Epoch 23/100\n",
      "29/29 [==============================] - 1s 20ms/step - loss: 0.0532 - mae: 0.1751 - val_loss: 0.0464 - val_mae: 0.1477\n",
      "Epoch 24/100\n",
      "29/29 [==============================] - 0s 15ms/step - loss: 0.0561 - mae: 0.1777 - val_loss: 0.0522 - val_mae: 0.1759\n",
      "Epoch 25/100\n",
      "29/29 [==============================] - 1s 19ms/step - loss: 0.0475 - mae: 0.1681 - val_loss: 0.0460 - val_mae: 0.1387\n",
      "Epoch 26/100\n",
      "29/29 [==============================] - 1s 17ms/step - loss: 0.0568 - mae: 0.1804 - val_loss: 0.0475 - val_mae: 0.1552\n",
      "Epoch 27/100\n",
      "29/29 [==============================] - 1s 19ms/step - loss: 0.0566 - mae: 0.1839 - val_loss: 0.0471 - val_mae: 0.1466\n",
      "Epoch 28/100\n",
      "29/29 [==============================] - 1s 20ms/step - loss: 0.0585 - mae: 0.1834 - val_loss: 0.0407 - val_mae: 0.1286\n",
      "Epoch 29/100\n",
      "29/29 [==============================] - 0s 17ms/step - loss: 0.0494 - mae: 0.1740 - val_loss: 0.0431 - val_mae: 0.1381\n",
      "Epoch 30/100\n",
      "29/29 [==============================] - 1s 21ms/step - loss: 0.0517 - mae: 0.1688 - val_loss: 0.0404 - val_mae: 0.1331\n",
      "Epoch 31/100\n",
      "29/29 [==============================] - 1s 19ms/step - loss: 0.0611 - mae: 0.1893 - val_loss: 0.0465 - val_mae: 0.1499\n",
      "Epoch 32/100\n",
      "29/29 [==============================] - 1s 22ms/step - loss: 0.0687 - mae: 0.1938 - val_loss: 0.0389 - val_mae: 0.1380\n",
      "Epoch 33/100\n",
      "29/29 [==============================] - 1s 20ms/step - loss: 0.0473 - mae: 0.1715 - val_loss: 0.0388 - val_mae: 0.1381\n",
      "Epoch 34/100\n",
      "29/29 [==============================] - 0s 17ms/step - loss: 0.0491 - mae: 0.1710 - val_loss: 0.0388 - val_mae: 0.1341\n",
      "Epoch 35/100\n",
      "29/29 [==============================] - 0s 17ms/step - loss: 0.0451 - mae: 0.1625 - val_loss: 0.0454 - val_mae: 0.1556\n",
      "Epoch 36/100\n",
      "29/29 [==============================] - 1s 19ms/step - loss: 0.0447 - mae: 0.1585 - val_loss: 0.0411 - val_mae: 0.1324\n",
      "Epoch 37/100\n",
      "29/29 [==============================] - 1s 19ms/step - loss: 0.0515 - mae: 0.1748 - val_loss: 0.0434 - val_mae: 0.1448\n",
      "Epoch 38/100\n",
      "29/29 [==============================] - 0s 17ms/step - loss: 0.0536 - mae: 0.1782 - val_loss: 0.0391 - val_mae: 0.1286\n",
      "Epoch 39/100\n",
      "29/29 [==============================] - 1s 18ms/step - loss: 0.0466 - mae: 0.1637 - val_loss: 0.0396 - val_mae: 0.1282\n",
      "Epoch 40/100\n",
      "29/29 [==============================] - 0s 17ms/step - loss: 0.0562 - mae: 0.1768 - val_loss: 0.0473 - val_mae: 0.1595\n",
      "Epoch 41/100\n",
      "29/29 [==============================] - 1s 19ms/step - loss: 0.0422 - mae: 0.1597 - val_loss: 0.0365 - val_mae: 0.1272\n",
      "Epoch 42/100\n",
      "29/29 [==============================] - 1s 24ms/step - loss: 0.0419 - mae: 0.1555 - val_loss: 0.0381 - val_mae: 0.1326\n",
      "Epoch 43/100\n",
      "29/29 [==============================] - 1s 20ms/step - loss: 0.0579 - mae: 0.1761 - val_loss: 0.0434 - val_mae: 0.1518\n",
      "Epoch 44/100\n",
      "29/29 [==============================] - 1s 18ms/step - loss: 0.0413 - mae: 0.1553 - val_loss: 0.0360 - val_mae: 0.1315\n",
      "Epoch 45/100\n",
      "29/29 [==============================] - 0s 16ms/step - loss: 0.0509 - mae: 0.1656 - val_loss: 0.0366 - val_mae: 0.1318\n",
      "Epoch 46/100\n",
      "29/29 [==============================] - 1s 21ms/step - loss: 0.0449 - mae: 0.1574 - val_loss: 0.0337 - val_mae: 0.1301\n",
      "Epoch 47/100\n",
      "29/29 [==============================] - 1s 19ms/step - loss: 0.0494 - mae: 0.1683 - val_loss: 0.0339 - val_mae: 0.1296\n",
      "Epoch 48/100\n",
      "29/29 [==============================] - 1s 18ms/step - loss: 0.0511 - mae: 0.1715 - val_loss: 0.0345 - val_mae: 0.1297\n",
      "Epoch 49/100\n",
      "29/29 [==============================] - 1s 18ms/step - loss: 0.0374 - mae: 0.1503 - val_loss: 0.0354 - val_mae: 0.1324\n",
      "Epoch 50/100\n",
      "29/29 [==============================] - 0s 16ms/step - loss: 0.0423 - mae: 0.1595 - val_loss: 0.0345 - val_mae: 0.1423\n",
      "Epoch 51/100\n",
      "29/29 [==============================] - 1s 18ms/step - loss: 0.0423 - mae: 0.1606 - val_loss: 0.0362 - val_mae: 0.1296\n",
      "Epoch 52/100\n",
      "29/29 [==============================] - 1s 18ms/step - loss: 0.0411 - mae: 0.1561 - val_loss: 0.0319 - val_mae: 0.1208\n",
      "Epoch 53/100\n",
      "29/29 [==============================] - 0s 16ms/step - loss: 0.0501 - mae: 0.1697 - val_loss: 0.0460 - val_mae: 0.1664\n",
      "Epoch 54/100\n",
      "29/29 [==============================] - 1s 20ms/step - loss: 0.0467 - mae: 0.1629 - val_loss: 0.0345 - val_mae: 0.1350\n",
      "Epoch 55/100\n",
      "29/29 [==============================] - 0s 14ms/step - loss: 0.0422 - mae: 0.1590 - val_loss: 0.0384 - val_mae: 0.1361\n",
      "Epoch 56/100\n",
      "29/29 [==============================] - 0s 15ms/step - loss: 0.0497 - mae: 0.1647 - val_loss: 0.0333 - val_mae: 0.1241\n",
      "Epoch 57/100\n",
      "29/29 [==============================] - 0s 17ms/step - loss: 0.0383 - mae: 0.1516 - val_loss: 0.0330 - val_mae: 0.1295\n",
      "Epoch 58/100\n",
      "29/29 [==============================] - 1s 18ms/step - loss: 0.0482 - mae: 0.1598 - val_loss: 0.0422 - val_mae: 0.1572\n",
      "Epoch 59/100\n",
      "29/29 [==============================] - 0s 17ms/step - loss: 0.0421 - mae: 0.1551 - val_loss: 0.0377 - val_mae: 0.1360\n",
      "Epoch 60/100\n",
      "29/29 [==============================] - 0s 16ms/step - loss: 0.0458 - mae: 0.1643 - val_loss: 0.0396 - val_mae: 0.1447\n",
      "Epoch 61/100\n",
      "29/29 [==============================] - 0s 14ms/step - loss: 0.0470 - mae: 0.1608 - val_loss: 0.0362 - val_mae: 0.1446\n",
      "Epoch 62/100\n",
      "29/29 [==============================] - 0s 16ms/step - loss: 0.0489 - mae: 0.1608 - val_loss: 0.0377 - val_mae: 0.1377\n",
      "Epoch 63/100\n",
      "29/29 [==============================] - 1s 19ms/step - loss: 0.0430 - mae: 0.1542 - val_loss: 0.0397 - val_mae: 0.1465\n",
      "Epoch 64/100\n",
      "29/29 [==============================] - 1s 18ms/step - loss: 0.0408 - mae: 0.1561 - val_loss: 0.0324 - val_mae: 0.1293\n",
      "Epoch 65/100\n",
      "29/29 [==============================] - 1s 20ms/step - loss: 0.0353 - mae: 0.1465 - val_loss: 0.0533 - val_mae: 0.1629\n",
      "Epoch 66/100\n",
      "29/29 [==============================] - 0s 17ms/step - loss: 0.0483 - mae: 0.1610 - val_loss: 0.0441 - val_mae: 0.1651\n",
      "Epoch 67/100\n",
      "29/29 [==============================] - 0s 16ms/step - loss: 0.0325 - mae: 0.1377 - val_loss: 0.0342 - val_mae: 0.1346\n",
      "1/1 [==============================] - 3s 3s/step\n",
      "3/3 [==============================] - 0s 7ms/step\n",
      "Model performances\n",
      "\t --> R2 Score (The model is perfect with a score of 1)\n",
      "\t \t --> Train set : 0.987\n",
      "\t \t --> Test set : 0.892\n",
      "\n",
      "\n",
      "\t --> MAE (Mean Absolute Error)\n",
      "\t \t --> Train set : 0.086\n",
      "\t \t --> Test set : 0.135\n"
     ]
    },
    {
     "data": {
      "image/png": "[encoded data removed]",
      "text/plain": [
       "<Figure size 1400x800 with 2 Axes>"
      ]
     },
     "metadata": {},
     "output_type": "display_data"
    }
   ],
   "source": [
    "# Get today datetime to create the model file\n",
    "current_datetime = datetime.now().strftime(\"%Y%m%d_%H%M%S\")\n",
    "results_dir = os.path.join(\"../models\", \"LSTM_MBIOST\", \"Time_lag_{}\".format(seq_length), current_datetime)\n",
    "params_file = os.path.join(results_dir, \"lstm_params_{}.pkl\".format(str(current_datetime)))\n",
    "\n",
    "# Create results directory if not exists\n",
    "if not os.path.exists(results_dir):\n",
    "    os.makedirs(results_dir)\n",
    "\n",
    "# Save learning parameters\n",
    "with open(params_file, 'wb') as fp:\n",
    "    pickle.dump(d_learning_params, fp)\n",
    "\n",
    "model_lstm, scores = train_lstm(X_train, y_train, X_test, y_test, d_learning_params, results_dir)\n",
    "\n",
    "# Save model scores\n",
    "d_scores = d_learning_params.copy()\n",
    "d_scores[\"scores\"] = scores\n",
    "scores_file = os.path.join(results_dir, \"lstm_scores_{}.pkl\".format(str(current_datetime)))\n",
    "\n",
    "print(\"Model performances\")\n",
    "print(\"\\t --> R2 Score (The model is perfect with a score of 1)\")\n",
    "print(\"\\t \\t --> Train set : {}\".format(scores['R2']['train']))\n",
    "print(\"\\t \\t --> Test set : {}\".format(scores['R2']['test']))\n",
    "print(\"\\n\")\n",
    "print(\"\\t --> MAE (Mean Absolute Error)\")\n",
    "print(\"\\t \\t --> Train set : {}\".format(scores['MAE']['train']))\n",
    "print(\"\\t \\t --> Test set : {}\".format(scores['MAE']['test']))\n",
    "\n",
    "# Save learning scores\n",
    "with open(scores_file, 'wb') as fp:\n",
    "    pickle.dump(d_scores, fp)"
   ]
  },
  {
   "cell_type": "code",
   "execution_count": 15,
   "metadata": {},
   "outputs": [
    {
     "data": {
      "text/plain": [
       "'../models/LSTM_MBIOST/Time_lag_2/20230921_150200/lstm_scores_20230921_150200.pkl'"
      ]
     },
     "execution_count": 15,
     "metadata": {},
     "output_type": "execute_result"
    }
   ],
   "source": [
    "scores_file\n",
    "# '../models/LSTM_MBIOST/Time_lag_2/20230921_144602/lstm_scores_20230921_144602.pkl': 0.881\n",
    "# '../models/LSTM_MBIOST/Time_lag_2/20230921_150200/lstm_scores_20230921_150200.pkl': 0.892"
   ]
  },
  {
   "cell_type": "code",
   "execution_count": 16,
   "metadata": {},
   "outputs": [],
   "source": [
    "with open(scores_file, 'rb') as f:\n",
    "    x = pickle.load(f)"
   ]
  },
  {
   "cell_type": "code",
   "execution_count": 17,
   "metadata": {},
   "outputs": [
    {
     "data": {
      "text/plain": [
       "{'R2': {'train': 0.987, 'test': 0.892}, 'MAE': {'train': 0.086, 'test': 0.135}}"
      ]
     },
     "execution_count": 17,
     "metadata": {},
     "output_type": "execute_result"
    }
   ],
   "source": [
    "x[\"scores\"]"
   ]
  },
  {
   "cell_type": "code",
   "execution_count": null,
   "metadata": {},
   "outputs": [],
   "source": []
  },
  {
   "cell_type": "code",
   "execution_count": null,
   "metadata": {},
   "outputs": [],
   "source": []
  }
 ],
 "metadata": {
  "kernelspec": {
   "display_name": "venv",
   "language": "python",
   "name": "python3"
  },
  "language_info": {
   "codemirror_mode": {
    "name": "ipython",
    "version": 3
   },
   "file_extension": ".py",
   "mimetype": "text/x-python",
   "name": "python",
   "nbconvert_exporter": "python",
   "pygments_lexer": "ipython3",
   "version": "3.10.12"
  },
  "orig_nbformat": 4
 },
 "nbformat": 4,
 "nbformat_minor": 2
}
