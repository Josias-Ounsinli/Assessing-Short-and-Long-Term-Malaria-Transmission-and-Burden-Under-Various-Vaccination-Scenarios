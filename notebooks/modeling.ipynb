{
 "cells": [
  {
   "cell_type": "code",
   "execution_count": 1,
   "metadata": {},
   "outputs": [],
   "source": [
    "\"\"\" Import packages \"\"\"\n",
    "import os\n",
    "from datetime import datetime\n",
    "import pickle\n",
    "import sys\n",
    "import logging\n",
    "import warnings\n",
    "\n",
    "import numpy as np\n",
    "import pandas as pd\n",
    "import matplotlib.pyplot as plt\n",
    "import seaborn as sns\n",
    "\n",
    "sys.path.insert(0, '../scripts/')\n",
    "\n",
    "logging.basicConfig(filename='../logs/modeling.log', filemode='a',\n",
    "                    encoding='utf-8', level=logging.DEBUG)\n",
    "\n",
    "warnings.filterwarnings(\"ignore\")"
   ]
  },
  {
   "cell_type": "code",
   "execution_count": 2,
   "metadata": {},
   "outputs": [
    {
     "name": "stderr",
     "output_type": "stream",
     "text": [
      "2023-12-03 14:23:51.544504: I tensorflow/core/platform/cpu_feature_guard.cc:182] This TensorFlow binary is optimized to use available CPU instructions in performance-critical operations.\n",
      "To enable the following instructions: AVX2 FMA, in other operations, rebuild TensorFlow with the appropriate compiler flags.\n",
      "2023-12-03 14:23:55.073066: W tensorflow/compiler/tf2tensorrt/utils/py_utils.cc:38] TF-TRT Warning: Could not find TensorRT\n"
     ]
    }
   ],
   "source": [
    "from modeling import build_train_test_datasets\n",
    "from modeling import build_sequences\n",
    "from modeling import train_lstm"
   ]
  },
  {
   "cell_type": "code",
   "execution_count": 3,
   "metadata": {},
   "outputs": [],
   "source": [
    "from explorer import DataTransformer\n",
    "\n",
    "transformer = DataTransformer()"
   ]
  },
  {
   "cell_type": "code",
   "execution_count": 4,
   "metadata": {},
   "outputs": [],
   "source": [
    "REPO = \"./\"\n",
    "filepath = \"../data/cleaned/final/cleaned_project_dataset.csv\"\n",
    "rev = \"clpdat3\""
   ]
  },
  {
   "cell_type": "markdown",
   "metadata": {},
   "source": [
    "### Importing the data"
   ]
  },
  {
   "cell_type": "code",
   "execution_count": 5,
   "metadata": {},
   "outputs": [
    {
     "data": {
      "text/html": [
       "<div>\n",
       "<style scoped>\n",
       "    .dataframe tbody tr th:only-of-type {\n",
       "        vertical-align: middle;\n",
       "    }\n",
       "\n",
       "    .dataframe tbody tr th {\n",
       "        vertical-align: top;\n",
       "    }\n",
       "\n",
       "    .dataframe thead th {\n",
       "        text-align: right;\n",
       "    }\n",
       "</style>\n",
       "<table border=\"1\" class=\"dataframe\">\n",
       "  <thead>\n",
       "    <tr style=\"text-align: right;\">\n",
       "      <th></th>\n",
       "      <th>Country</th>\n",
       "      <th>ISO3</th>\n",
       "      <th>Date</th>\n",
       "      <th>Target_1</th>\n",
       "      <th>Target_2</th>\n",
       "      <th>Target_3</th>\n",
       "      <th>Feature_1</th>\n",
       "      <th>Feature_2</th>\n",
       "      <th>Feature_3</th>\n",
       "      <th>Feature_4</th>\n",
       "      <th>...</th>\n",
       "      <th>Feature_23</th>\n",
       "      <th>Feature_24</th>\n",
       "      <th>Feature_25</th>\n",
       "      <th>Feature_26</th>\n",
       "      <th>Feature_27</th>\n",
       "      <th>Feature_28</th>\n",
       "      <th>Feature_29</th>\n",
       "      <th>Feature_30</th>\n",
       "      <th>Feature_31</th>\n",
       "      <th>Feature_32</th>\n",
       "    </tr>\n",
       "  </thead>\n",
       "  <tbody>\n",
       "    <tr>\n",
       "      <th>0</th>\n",
       "      <td>Burkina Faso</td>\n",
       "      <td>BFA</td>\n",
       "      <td>2000-12-31</td>\n",
       "      <td>603.21100</td>\n",
       "      <td>874.85</td>\n",
       "      <td>249.82</td>\n",
       "      <td>2.55</td>\n",
       "      <td>43.4316</td>\n",
       "      <td>15.4232</td>\n",
       "      <td>3.020</td>\n",
       "      <td>...</td>\n",
       "      <td>714.73</td>\n",
       "      <td>29.06</td>\n",
       "      <td>22.72</td>\n",
       "      <td>0</td>\n",
       "      <td>0</td>\n",
       "      <td>0</td>\n",
       "      <td>0.0</td>\n",
       "      <td>2565.5260</td>\n",
       "      <td>0.0</td>\n",
       "      <td>0.0</td>\n",
       "    </tr>\n",
       "    <tr>\n",
       "      <th>1</th>\n",
       "      <td>Burkina Faso</td>\n",
       "      <td>BFA</td>\n",
       "      <td>2001-12-31</td>\n",
       "      <td>601.93774</td>\n",
       "      <td>918.92</td>\n",
       "      <td>264.60</td>\n",
       "      <td>2.97</td>\n",
       "      <td>44.7725</td>\n",
       "      <td>15.5302</td>\n",
       "      <td>3.060</td>\n",
       "      <td>...</td>\n",
       "      <td>749.26</td>\n",
       "      <td>29.19</td>\n",
       "      <td>22.77</td>\n",
       "      <td>0</td>\n",
       "      <td>0</td>\n",
       "      <td>0</td>\n",
       "      <td>0.0</td>\n",
       "      <td>2636.0425</td>\n",
       "      <td>0.0</td>\n",
       "      <td>0.0</td>\n",
       "    </tr>\n",
       "    <tr>\n",
       "      <th>2</th>\n",
       "      <td>Burkina Faso</td>\n",
       "      <td>BFA</td>\n",
       "      <td>2002-12-31</td>\n",
       "      <td>595.85205</td>\n",
       "      <td>958.85</td>\n",
       "      <td>274.54</td>\n",
       "      <td>2.90</td>\n",
       "      <td>46.1706</td>\n",
       "      <td>15.6492</td>\n",
       "      <td>3.089</td>\n",
       "      <td>...</td>\n",
       "      <td>690.37</td>\n",
       "      <td>29.47</td>\n",
       "      <td>23.24</td>\n",
       "      <td>0</td>\n",
       "      <td>0</td>\n",
       "      <td>0</td>\n",
       "      <td>0.0</td>\n",
       "      <td>2707.4575</td>\n",
       "      <td>0.0</td>\n",
       "      <td>0.0</td>\n",
       "    </tr>\n",
       "    <tr>\n",
       "      <th>3</th>\n",
       "      <td>Burkina Faso</td>\n",
       "      <td>BFA</td>\n",
       "      <td>2003-12-31</td>\n",
       "      <td>585.12330</td>\n",
       "      <td>965.41</td>\n",
       "      <td>278.27</td>\n",
       "      <td>2.60</td>\n",
       "      <td>47.6264</td>\n",
       "      <td>15.7656</td>\n",
       "      <td>3.120</td>\n",
       "      <td>...</td>\n",
       "      <td>935.59</td>\n",
       "      <td>29.34</td>\n",
       "      <td>23.12</td>\n",
       "      <td>0</td>\n",
       "      <td>0</td>\n",
       "      <td>0</td>\n",
       "      <td>0.0</td>\n",
       "      <td>2783.3055</td>\n",
       "      <td>0.0</td>\n",
       "      <td>0.0</td>\n",
       "    </tr>\n",
       "    <tr>\n",
       "      <th>4</th>\n",
       "      <td>Burkina Faso</td>\n",
       "      <td>BFA</td>\n",
       "      <td>2004-12-31</td>\n",
       "      <td>562.41130</td>\n",
       "      <td>925.19</td>\n",
       "      <td>267.83</td>\n",
       "      <td>3.00</td>\n",
       "      <td>49.1447</td>\n",
       "      <td>15.8710</td>\n",
       "      <td>3.156</td>\n",
       "      <td>...</td>\n",
       "      <td>752.75</td>\n",
       "      <td>29.41</td>\n",
       "      <td>23.25</td>\n",
       "      <td>0</td>\n",
       "      <td>0</td>\n",
       "      <td>0</td>\n",
       "      <td>0.0</td>\n",
       "      <td>2865.9350</td>\n",
       "      <td>0.0</td>\n",
       "      <td>0.0</td>\n",
       "    </tr>\n",
       "  </tbody>\n",
       "</table>\n",
       "<p>5 rows × 38 columns</p>\n",
       "</div>"
      ],
      "text/plain": [
       "        Country ISO3       Date   Target_1  Target_2  Target_3  Feature_1  \\\n",
       "0  Burkina Faso  BFA 2000-12-31  603.21100    874.85    249.82       2.55   \n",
       "1  Burkina Faso  BFA 2001-12-31  601.93774    918.92    264.60       2.97   \n",
       "2  Burkina Faso  BFA 2002-12-31  595.85205    958.85    274.54       2.90   \n",
       "3  Burkina Faso  BFA 2003-12-31  585.12330    965.41    278.27       2.60   \n",
       "4  Burkina Faso  BFA 2004-12-31  562.41130    925.19    267.83       3.00   \n",
       "\n",
       "   Feature_2  Feature_3  Feature_4  ...  Feature_23  Feature_24  Feature_25  \\\n",
       "0    43.4316    15.4232      3.020  ...      714.73       29.06       22.72   \n",
       "1    44.7725    15.5302      3.060  ...      749.26       29.19       22.77   \n",
       "2    46.1706    15.6492      3.089  ...      690.37       29.47       23.24   \n",
       "3    47.6264    15.7656      3.120  ...      935.59       29.34       23.12   \n",
       "4    49.1447    15.8710      3.156  ...      752.75       29.41       23.25   \n",
       "\n",
       "   Feature_26  Feature_27  Feature_28  Feature_29  Feature_30  Feature_31  \\\n",
       "0           0           0           0         0.0   2565.5260         0.0   \n",
       "1           0           0           0         0.0   2636.0425         0.0   \n",
       "2           0           0           0         0.0   2707.4575         0.0   \n",
       "3           0           0           0         0.0   2783.3055         0.0   \n",
       "4           0           0           0         0.0   2865.9350         0.0   \n",
       "\n",
       "   Feature_32  \n",
       "0         0.0  \n",
       "1         0.0  \n",
       "2         0.0  \n",
       "3         0.0  \n",
       "4         0.0  \n",
       "\n",
       "[5 rows x 38 columns]"
      ]
     },
     "execution_count": 5,
     "metadata": {},
     "output_type": "execute_result"
    }
   ],
   "source": [
    "data = transformer.load_data(ext=\"csv\", filepath=filepath, repo=REPO, rev=rev, header=0, parse_dates=[\"Date\"])\n",
    "data.head()"
   ]
  },
  {
   "cell_type": "markdown",
   "metadata": {},
   "source": [
    "### Build Train and Test Dataset: include preprocessing"
   ]
  },
  {
   "cell_type": "code",
   "execution_count": 32,
   "metadata": {},
   "outputs": [],
   "source": [
    "index_cols = [\"ISO3\", \"Country\", \"Date\"]\n",
    "target_columns = [col for col in data.columns if col.startswith(\"Target\")]\n",
    "input_columns = [col for col in data.columns if col.startswith(\"Feature\")] # + target_columns\n",
    "feature_columns = [col for col in data.columns if col.startswith(\"Feature\")]"
   ]
  },
  {
   "cell_type": "code",
   "execution_count": 33,
   "metadata": {},
   "outputs": [],
   "source": [
    "d_train_test, scaler_inputs, scaler_targets = build_train_test_datasets(\n",
    "    data,\n",
    "    index_cols=index_cols,\n",
    "    input_cols=input_columns,\n",
    "    target_cols=target_columns,\n",
    "    train_limit=\"2019\",\n",
    "    scaler_str=\"standard\"\n",
    ")"
   ]
  },
  {
   "cell_type": "code",
   "execution_count": 34,
   "metadata": {},
   "outputs": [
    {
     "name": "stdout",
     "output_type": "stream",
     "text": [
      "(399, 32) (399, 3) (84, 32) (84, 3)\n"
     ]
    }
   ],
   "source": [
    "X_train = d_train_test[\"Scaled\"][\"train\"][\"Inputs\"]\n",
    "y_train = d_train_test[\"Scaled\"][\"train\"][\"Targets\"]\n",
    "X_test = d_train_test[\"Scaled\"][\"test\"][\"Inputs\"]\n",
    "y_test = d_train_test[\"Scaled\"][\"test\"][\"Targets\"]\n",
    "\n",
    "print(X_train.shape, y_train.shape, X_test.shape, y_test.shape)"
   ]
  },
  {
   "cell_type": "markdown",
   "metadata": {},
   "source": [
    "### Build sequences"
   ]
  },
  {
   "cell_type": "code",
   "execution_count": 35,
   "metadata": {},
   "outputs": [],
   "source": [
    "seq_length = 2"
   ]
  },
  {
   "cell_type": "code",
   "execution_count": 36,
   "metadata": {},
   "outputs": [],
   "source": [
    "X_train, y_train = build_sequences(X_train, y_train, seq_length=seq_length, index_cols=index_cols)"
   ]
  },
  {
   "cell_type": "code",
   "execution_count": 37,
   "metadata": {},
   "outputs": [],
   "source": [
    "X_test, y_test = build_sequences(X_test, y_test, seq_length=seq_length, index_cols=index_cols)"
   ]
  },
  {
   "cell_type": "code",
   "execution_count": 38,
   "metadata": {},
   "outputs": [
    {
     "name": "stdout",
     "output_type": "stream",
     "text": [
      "(357, 2, 32) (357, 3) (42, 2, 32) (42, 3)\n"
     ]
    }
   ],
   "source": [
    "print(X_train.shape, y_train.shape, X_test.shape, y_test.shape) "
   ]
  },
  {
   "cell_type": "markdown",
   "metadata": {},
   "source": [
    "### Train model"
   ]
  },
  {
   "cell_type": "code",
   "execution_count": 39,
   "metadata": {},
   "outputs": [],
   "source": [
    "# Learning parameters\n",
    "d_learning_params = {}\n",
    "d_learning_params['batch_size'] = 6\n",
    "d_learning_params['epochs'] = 64\n",
    "d_learning_params['activation_fn'] = \"tanh\"\n",
    "d_learning_params['loss_fn'] = \"mse\"\n",
    "d_learning_params['metrics'] = ['mae']\n",
    "d_learning_params['optimizer'] = \"adam\"\n",
    "d_learning_params['scalers'] = [scaler_inputs, scaler_targets]\n",
    "d_learning_params['feat_names'] = input_columns\n",
    "d_learning_params['target_names'] = target_columns\n",
    "d_learning_params['d_train_test'] = d_train_test\n",
    "d_learning_params['seq_train_test_val'] = {\n",
    "    \"train\": {\"features\": X_train, \"targets\": y_train },\n",
    "    \"test\": {\"features\": X_test, \"targets\": y_test}\n",
    "}\n",
    "d_learning_params['layers'] = [32, 32, 6]"
   ]
  },
  {
   "cell_type": "code",
   "execution_count": 40,
   "metadata": {},
   "outputs": [
    {
     "name": "stdout",
     "output_type": "stream",
     "text": [
      "Model: \"sequential_9\"\n",
      "_________________________________________________________________\n",
      " Layer (type)                Output Shape              Param #   \n",
      "=================================================================\n",
      " lstm_22 (LSTM)              (None, 2, 32)             8320      \n",
      "                                                                 \n",
      " dropout_22 (Dropout)        (None, 2, 32)             0         \n",
      "                                                                 \n",
      " lstm_23 (LSTM)              (None, 2, 32)             8320      \n",
      "                                                                 \n",
      " dropout_23 (Dropout)        (None, 2, 32)             0         \n",
      "                                                                 \n",
      " lstm_24 (LSTM)              (None, 6)                 936       \n",
      "                                                                 \n",
      " dropout_24 (Dropout)        (None, 6)                 0         \n",
      "                                                                 \n",
      " dense_9 (Dense)             (None, 3)                 21        \n",
      "                                                                 \n",
      "=================================================================\n",
      "Total params: 17597 (68.74 KB)\n",
      "Trainable params: 17597 (68.74 KB)\n",
      "Non-trainable params: 0 (0.00 Byte)\n",
      "_________________________________________________________________\n",
      "Epoch 1/64\n",
      "60/60 [==============================] - 12s 52ms/step - loss: 0.9426 - mae: 0.8238 - val_loss: 0.5522 - val_mae: 0.6317\n",
      "Epoch 2/64\n",
      "60/60 [==============================] - 1s 17ms/step - loss: 0.7103 - mae: 0.6867 - val_loss: 0.1982 - val_mae: 0.3563\n",
      "Epoch 3/64\n",
      "60/60 [==============================] - 1s 14ms/step - loss: 0.4531 - mae: 0.5111 - val_loss: 0.1786 - val_mae: 0.3166\n",
      "Epoch 4/64\n",
      "60/60 [==============================] - 1s 15ms/step - loss: 0.3253 - mae: 0.4295 - val_loss: 0.1378 - val_mae: 0.2877\n",
      "Epoch 5/64\n",
      "60/60 [==============================] - 1s 17ms/step - loss: 0.2808 - mae: 0.3885 - val_loss: 0.1263 - val_mae: 0.2753\n",
      "Epoch 6/64\n",
      "60/60 [==============================] - 1s 15ms/step - loss: 0.2338 - mae: 0.3582 - val_loss: 0.1045 - val_mae: 0.2610\n",
      "Epoch 7/64\n",
      "60/60 [==============================] - 1s 15ms/step - loss: 0.2091 - mae: 0.3371 - val_loss: 0.1036 - val_mae: 0.2532\n",
      "Epoch 8/64\n",
      "60/60 [==============================] - 1s 17ms/step - loss: 0.1888 - mae: 0.3228 - val_loss: 0.0873 - val_mae: 0.2364\n",
      "Epoch 9/64\n",
      "60/60 [==============================] - 1s 16ms/step - loss: 0.1791 - mae: 0.3064 - val_loss: 0.0868 - val_mae: 0.2409\n",
      "Epoch 10/64\n",
      "60/60 [==============================] - 1s 13ms/step - loss: 0.1669 - mae: 0.3024 - val_loss: 0.0900 - val_mae: 0.2454\n",
      "Epoch 11/64\n",
      "60/60 [==============================] - 1s 16ms/step - loss: 0.1580 - mae: 0.2899 - val_loss: 0.0804 - val_mae: 0.2277\n",
      "Epoch 12/64\n",
      "60/60 [==============================] - 1s 15ms/step - loss: 0.1740 - mae: 0.3079 - val_loss: 0.0790 - val_mae: 0.2313\n",
      "Epoch 13/64\n",
      "60/60 [==============================] - 1s 14ms/step - loss: 0.1499 - mae: 0.2833 - val_loss: 0.0760 - val_mae: 0.2166\n",
      "Epoch 14/64\n",
      "60/60 [==============================] - 1s 15ms/step - loss: 0.1358 - mae: 0.2710 - val_loss: 0.0744 - val_mae: 0.2231\n",
      "Epoch 15/64\n",
      "60/60 [==============================] - 1s 14ms/step - loss: 0.1483 - mae: 0.2751 - val_loss: 0.0865 - val_mae: 0.2270\n",
      "Epoch 16/64\n",
      "60/60 [==============================] - 1s 17ms/step - loss: 0.1510 - mae: 0.2838 - val_loss: 0.0756 - val_mae: 0.2145\n",
      "Epoch 17/64\n",
      "60/60 [==============================] - 1s 15ms/step - loss: 0.1545 - mae: 0.2834 - val_loss: 0.0696 - val_mae: 0.2151\n",
      "Epoch 18/64\n",
      "60/60 [==============================] - 1s 15ms/step - loss: 0.1370 - mae: 0.2698 - val_loss: 0.0641 - val_mae: 0.2007\n",
      "Epoch 19/64\n",
      "60/60 [==============================] - 1s 16ms/step - loss: 0.1373 - mae: 0.2665 - val_loss: 0.0725 - val_mae: 0.2195\n",
      "Epoch 20/64\n",
      "60/60 [==============================] - 1s 14ms/step - loss: 0.1265 - mae: 0.2531 - val_loss: 0.0643 - val_mae: 0.2078\n",
      "Epoch 21/64\n",
      "60/60 [==============================] - 1s 15ms/step - loss: 0.1430 - mae: 0.2723 - val_loss: 0.0594 - val_mae: 0.1986\n",
      "Epoch 22/64\n",
      "60/60 [==============================] - 1s 16ms/step - loss: 0.1175 - mae: 0.2497 - val_loss: 0.0539 - val_mae: 0.1856\n",
      "Epoch 23/64\n",
      "60/60 [==============================] - 1s 16ms/step - loss: 0.1398 - mae: 0.2723 - val_loss: 0.0587 - val_mae: 0.1934\n",
      "Epoch 24/64\n",
      "60/60 [==============================] - 1s 16ms/step - loss: 0.1161 - mae: 0.2488 - val_loss: 0.0530 - val_mae: 0.1877\n",
      "Epoch 25/64\n",
      "60/60 [==============================] - 1s 14ms/step - loss: 0.1321 - mae: 0.2680 - val_loss: 0.0644 - val_mae: 0.2035\n",
      "Epoch 26/64\n",
      "60/60 [==============================] - 1s 15ms/step - loss: 0.1216 - mae: 0.2549 - val_loss: 0.0582 - val_mae: 0.1961\n",
      "Epoch 27/64\n",
      "60/60 [==============================] - 1s 15ms/step - loss: 0.1291 - mae: 0.2620 - val_loss: 0.0537 - val_mae: 0.1795\n",
      "Epoch 28/64\n",
      "60/60 [==============================] - 1s 13ms/step - loss: 0.1237 - mae: 0.2618 - val_loss: 0.0583 - val_mae: 0.1886\n",
      "Epoch 29/64\n",
      "60/60 [==============================] - 1s 15ms/step - loss: 0.1137 - mae: 0.2485 - val_loss: 0.0537 - val_mae: 0.1878\n",
      "Epoch 30/64\n",
      "60/60 [==============================] - 1s 15ms/step - loss: 0.1122 - mae: 0.2468 - val_loss: 0.0537 - val_mae: 0.1873\n",
      "Epoch 31/64\n",
      "60/60 [==============================] - 1s 16ms/step - loss: 0.1177 - mae: 0.2506 - val_loss: 0.0431 - val_mae: 0.1573\n",
      "Epoch 32/64\n",
      "60/60 [==============================] - 1s 16ms/step - loss: 0.1156 - mae: 0.2439 - val_loss: 0.0512 - val_mae: 0.1792\n",
      "Epoch 33/64\n",
      "60/60 [==============================] - 1s 15ms/step - loss: 0.1252 - mae: 0.2511 - val_loss: 0.0530 - val_mae: 0.1858\n",
      "Epoch 34/64\n",
      "60/60 [==============================] - 1s 16ms/step - loss: 0.1172 - mae: 0.2530 - val_loss: 0.0484 - val_mae: 0.1673\n",
      "Epoch 35/64\n",
      "60/60 [==============================] - 1s 13ms/step - loss: 0.1147 - mae: 0.2510 - val_loss: 0.0621 - val_mae: 0.1970\n",
      "Epoch 36/64\n",
      "60/60 [==============================] - 1s 14ms/step - loss: 0.1037 - mae: 0.2378 - val_loss: 0.0626 - val_mae: 0.1878\n",
      "Epoch 37/64\n",
      "60/60 [==============================] - 1s 14ms/step - loss: 0.1161 - mae: 0.2435 - val_loss: 0.0630 - val_mae: 0.1970\n",
      "Epoch 38/64\n",
      "60/60 [==============================] - 1s 15ms/step - loss: 0.0893 - mae: 0.2256 - val_loss: 0.0606 - val_mae: 0.1933\n",
      "Epoch 39/64\n",
      "60/60 [==============================] - 1s 13ms/step - loss: 0.0929 - mae: 0.2322 - val_loss: 0.0599 - val_mae: 0.1854\n",
      "Epoch 40/64\n",
      "60/60 [==============================] - 1s 16ms/step - loss: 0.0922 - mae: 0.2284 - val_loss: 0.0542 - val_mae: 0.1800\n",
      "Epoch 41/64\n",
      "60/60 [==============================] - 1s 14ms/step - loss: 0.0972 - mae: 0.2270 - val_loss: 0.0588 - val_mae: 0.1902\n",
      "Epoch 42/64\n",
      "60/60 [==============================] - 1s 19ms/step - loss: 0.1103 - mae: 0.2374 - val_loss: 0.0542 - val_mae: 0.1832\n",
      "Epoch 43/64\n",
      "60/60 [==============================] - 1s 14ms/step - loss: 0.1146 - mae: 0.2420 - val_loss: 0.0563 - val_mae: 0.1833\n",
      "Epoch 44/64\n",
      "60/60 [==============================] - 1s 15ms/step - loss: 0.1025 - mae: 0.2377 - val_loss: 0.0647 - val_mae: 0.1937\n",
      "Epoch 45/64\n",
      "60/60 [==============================] - 1s 15ms/step - loss: 0.1067 - mae: 0.2389 - val_loss: 0.0616 - val_mae: 0.1827\n",
      "Epoch 46/64\n",
      "60/60 [==============================] - 1s 13ms/step - loss: 0.1109 - mae: 0.2490 - val_loss: 0.0573 - val_mae: 0.1810\n",
      "2/2 [==============================] - 2s 9ms/step\n",
      "12/12 [==============================] - 0s 6ms/step\n",
      "Model performances\n",
      "\t --> R2 Score (The model is perfect with a score of 1)\n",
      "\t \t --> Train set : 0.963\n",
      "\t \t --> Test set : 0.834\n",
      "\n",
      "\n",
      "\t --> MAE (Mean Absolute Error)\n",
      "\t \t --> Train set : 0.136\n",
      "\t \t --> Test set : 0.181\n"
     ]
    },
    {
     "data": {
      "image/png": "[encoded data removed]",
      "text/plain": [
       "<Figure size 1400x800 with 2 Axes>"
      ]
     },
     "metadata": {},
     "output_type": "display_data"
    }
   ],
   "source": [
    "# Get today datetime to create the model file\n",
    "current_datetime = datetime.now().strftime(\"%Y%m%d_%H%M%S\")\n",
    "results_dir = os.path.join(\"../models\", \"LSTM_MBIOST\", \"Time_lag_{}\".format(seq_length), current_datetime)\n",
    "params_file = os.path.join(results_dir, \"lstm_params_{}.pkl\".format(str(current_datetime)))\n",
    "\n",
    "# Create results directory if not exists\n",
    "if not os.path.exists(results_dir):\n",
    "    os.makedirs(results_dir)\n",
    "\n",
    "# Save learning parameters\n",
    "with open(params_file, 'wb') as fp:\n",
    "    pickle.dump(d_learning_params, fp)\n",
    "\n",
    "model_lstm, scores = train_lstm(X_train, y_train, X_test, y_test, d_learning_params, results_dir)\n",
    "\n",
    "# Save model scores\n",
    "d_scores = d_learning_params.copy()\n",
    "d_scores[\"scores\"] = scores\n",
    "scores_file = os.path.join(results_dir, \"lstm_scores_{}.pkl\".format(str(current_datetime)))\n",
    "\n",
    "print(\"Model performances\")\n",
    "print(\"\\t --> R2 Score (The model is perfect with a score of 1)\")\n",
    "print(\"\\t \\t --> Train set : {}\".format(scores['R2']['train']))\n",
    "print(\"\\t \\t --> Test set : {}\".format(scores['R2']['test']))\n",
    "print(\"\\n\")\n",
    "print(\"\\t --> MAE (Mean Absolute Error)\")\n",
    "print(\"\\t \\t --> Train set : {}\".format(scores['MAE']['train']))\n",
    "print(\"\\t \\t --> Test set : {}\".format(scores['MAE']['test']))\n",
    "\n",
    "# Save learning scores\n",
    "with open(scores_file, 'wb') as fp:\n",
    "    pickle.dump(d_scores, fp)"
   ]
  },
  {
   "cell_type": "code",
   "execution_count": 41,
   "metadata": {},
   "outputs": [
    {
     "data": {
      "text/plain": [
       "'../models/LSTM_MBIOST/Time_lag_2/20231203_143702/lstm_scores_20231203_143702.pkl'"
      ]
     },
     "execution_count": 41,
     "metadata": {},
     "output_type": "execute_result"
    }
   ],
   "source": [
    "scores_file\n",
    "# '../models/LSTM_MBIOST/Time_lag_2/20230921_144602/lstm_scores_20230921_144602.pkl': 0.881\n",
    "# '../models/LSTM_MBIOST/Time_lag_2/20230921_150200/lstm_scores_20230921_150200.pkl': 0.892"
   ]
  },
  {
   "cell_type": "code",
   "execution_count": 42,
   "metadata": {},
   "outputs": [],
   "source": [
    "with open(scores_file, 'rb') as f:\n",
    "    x = pickle.load(f)"
   ]
  },
  {
   "cell_type": "code",
   "execution_count": 43,
   "metadata": {},
   "outputs": [
    {
     "data": {
      "text/plain": [
       "{'R2': {'train': 0.963, 'test': 0.834}, 'MAE': {'train': 0.136, 'test': 0.181}}"
      ]
     },
     "execution_count": 43,
     "metadata": {},
     "output_type": "execute_result"
    }
   ],
   "source": [
    "x[\"scores\"]"
   ]
  },
  {
   "cell_type": "code",
   "execution_count": null,
   "metadata": {},
   "outputs": [],
   "source": []
  },
  {
   "cell_type": "code",
   "execution_count": null,
   "metadata": {},
   "outputs": [],
   "source": []
  }
 ],
 "metadata": {
  "kernelspec": {
   "display_name": "venv",
   "language": "python",
   "name": "python3"
  },
  "language_info": {
   "codemirror_mode": {
    "name": "ipython",
    "version": 3
   },
   "file_extension": ".py",
   "mimetype": "text/x-python",
   "name": "python",
   "nbconvert_exporter": "python",
   "pygments_lexer": "ipython3",
   "version": "3.10.12"
  },
  "orig_nbformat": 4
 },
 "nbformat": 4,
 "nbformat_minor": 2
}
